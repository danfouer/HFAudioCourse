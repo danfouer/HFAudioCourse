{
 "cells": [
  {
   "cell_type": "markdown",
   "metadata": {},
   "source": [
    "# 第4单元：音频分类"
   ]
  },
  {
   "cell_type": "markdown",
   "metadata": {},
   "source": [
    "现在是时候接触一些音频模型并应用您迄今为止所学到的知识了。此练习是获得课程结业证书所需的四项实践练习之一。\n",
    "\n",
    "这是说明。marsyas/gtzan在本单元中，我们演示了如何在音乐分类数据集上微调休伯特模型。我们的示例达到了 83% 的准确率。您的任务是改进这个准确性指标。\n",
    "\n",
    "您可以在🤗 Hub上随意选择您认为适合音频分类的任何模型，并使用完全相同的数据集marsyas/gtzan来构建您自己的分类器。\n",
    "\n",
    "您的目标是使用您的分类器在此数据集上实现 87% 的准确率。您可以选择完全相同的模型，并使用训练超参数，或者选择完全不同的模型 - 这取决于您！"
   ]
  },
  {
   "cell_type": "markdown",
   "metadata": {},
   "source": [
    "以下是一些在进行本练习时可能会有所帮助的其他资源：\n",
    "\n",
    "Transformers 文档中的音频分类任务指南\n",
    "\n",
    "使用 🤗 Transformer 微调音频分类\n",
    "\n",
    "Hubert 模型文档\n",
    "\n",
    "M-CTC-T 模型文档\n",
    "\n",
    "音频频谱图Transformer(这个专门开一个notebooks文档)\n",
    "\n",
    "Wav2Vec2 文档\n"
   ]
  },
  {
   "cell_type": "markdown",
   "metadata": {
    "jp-MarkdownHeadingCollapsed": true
   },
   "source": [
    "## Transformers 文档中的音频分类任务指南"
   ]
  },
  {
   "cell_type": "markdown",
   "metadata": {},
   "source": [
    "音频分类 - 就像文本一样 - 从输入数据分配一个类标签输出。唯一的区别是您拥有原始音频波形，而不是文本输入。音频分类的一些实际应用包括识别说话者意图、语言分类，甚至通过声音识别动物物种。\n",
    "\n",
    "本指南将向您展示如何：\n",
    "\n",
    "1. 在MInDS-14数据集上微调Wav2Vec2以对说话者意图进行分类。\n",
    "\n",
    "2. 使用您的微调模型进行推理。"
   ]
  },
  {
   "cell_type": "markdown",
   "metadata": {},
   "source": [
    "<font style=background:green>本教程中演示的任务由以下模型架构支持：\n",
    "音频频谱图转换器、Data2VecAudio、Hubert、SEW、SEW-D、UniSpeech、UniSpeechSat、Wav2Vec2、Wav2Vec2-Conformer、WavLM、Whisper</font>"
   ]
  },
  {
   "cell_type": "markdown",
   "metadata": {},
   "source": [
    "在开始之前，请确保已安装所有必需的库：pip install transformers datasets evaluate"
   ]
  },
  {
   "cell_type": "markdown",
   "metadata": {},
   "source": [
    "我们鼓励您登录 Hugging Face 帐户，以便您可以上传模型并与社区分享。出现提示时，输入您的令牌进行登录："
   ]
  },
  {
   "cell_type": "code",
   "execution_count": 1,
   "metadata": {},
   "outputs": [
    {
     "data": {
      "application/vnd.jupyter.widget-view+json": {
       "model_id": "69e21d7833874d52b9198901e3deba57",
       "version_major": 2,
       "version_minor": 0
      },
      "text/plain": [
       "VBox(children=(HTML(value='<center> <img\\nsrc=https://huggingface.co/front/assets/huggingface_logo-noborder.sv…"
      ]
     },
     "metadata": {},
     "output_type": "display_data"
    }
   ],
   "source": [
    "from huggingface_hub import notebook_login\n",
    "\n",
    "notebook_login()"
   ]
  },
  {
   "cell_type": "markdown",
   "metadata": {},
   "source": [
    "### 加载 MInDS-14 数据集"
   ]
  },
  {
   "cell_type": "markdown",
   "metadata": {},
   "source": [
    "首先从 🤗 数据集库加载 MInDS-14 数据集："
   ]
  },
  {
   "cell_type": "code",
   "execution_count": 2,
   "metadata": {},
   "outputs": [],
   "source": [
    "from datasets import load_dataset\n",
    "minds = load_dataset(\"./ZZXDatasets/minds14\", name=\"en-US\", split=\"train\")"
   ]
  },
  {
   "cell_type": "markdown",
   "metadata": {},
   "source": [
    "使用train_test_split方法将数据集拆分train为较小的训练集和测试集。这将使您有机会进行试验并确保一切正常，然后再将更多时间花在完整数据集上。"
   ]
  },
  {
   "cell_type": "code",
   "execution_count": 3,
   "metadata": {},
   "outputs": [],
   "source": [
    "minds = minds.train_test_split(test_size=0.2)"
   ]
  },
  {
   "cell_type": "markdown",
   "metadata": {},
   "source": [
    "然后看一下数据集："
   ]
  },
  {
   "cell_type": "code",
   "execution_count": 4,
   "metadata": {},
   "outputs": [
    {
     "data": {
      "text/plain": [
       "DatasetDict({\n",
       "    train: Dataset({\n",
       "        features: ['path', 'audio', 'transcription', 'english_transcription', 'intent_class', 'lang_id'],\n",
       "        num_rows: 450\n",
       "    })\n",
       "    test: Dataset({\n",
       "        features: ['path', 'audio', 'transcription', 'english_transcription', 'intent_class', 'lang_id'],\n",
       "        num_rows: 113\n",
       "    })\n",
       "})"
      ]
     },
     "execution_count": 4,
     "metadata": {},
     "output_type": "execute_result"
    }
   ],
   "source": [
    "minds"
   ]
  },
  {
   "cell_type": "markdown",
   "metadata": {},
   "source": [
    "虽然数据集包含许多有用的信息，例如lang_id和intent_class，但在本指南中english_transcription您将重点关注audio和。使用remove_columnsintent_class方法删除其他列："
   ]
  },
  {
   "cell_type": "code",
   "execution_count": 5,
   "metadata": {},
   "outputs": [],
   "source": [
    "minds = minds.remove_columns([\"path\", \"transcription\", \"english_transcription\", \"lang_id\"])"
   ]
  },
  {
   "cell_type": "markdown",
   "metadata": {},
   "source": [
    "现在看一个例子："
   ]
  },
  {
   "cell_type": "code",
   "execution_count": 6,
   "metadata": {},
   "outputs": [
    {
     "data": {
      "text/plain": [
       "{'audio': {'path': '/home/zongxiao/.cache/huggingface/datasets/downloads/extracted/e6a84153a628f86a81aa2d7a45218ecdfb7c4336eba93c41688306bc51ad856a/en-US~PAY_BILL/602ba5a4963e11ccd901ccb8.wav',\n",
       "  'array': array([ 0.00024414,  0.        ,  0.        , ..., -0.0012207 ,\n",
       "         -0.0012207 ,  0.00097656]),\n",
       "  'sampling_rate': 8000},\n",
       " 'intent_class': 13}"
      ]
     },
     "execution_count": 6,
     "metadata": {},
     "output_type": "execute_result"
    }
   ],
   "source": [
    "minds[\"train\"][0]"
   ]
  },
  {
   "cell_type": "markdown",
   "metadata": {},
   "source": [
    "有两个字段：\n",
    "\n",
    "audioarray：必须调用以加载和重新采样音频文件的一维语音信号。\n",
    "intent_class：代表说话者意图的类ID。"
   ]
  },
  {
   "cell_type": "markdown",
   "metadata": {},
   "source": [
    "为了使模型更容易从标签 id 获取标签名称，请创建一个字典，将标签名称映射到整数，反之亦然："
   ]
  },
  {
   "cell_type": "code",
   "execution_count": 7,
   "metadata": {},
   "outputs": [],
   "source": [
    "labels = minds[\"train\"].features[\"intent_class\"].names\n",
    "label2id, id2label = dict(), dict()\n",
    "for i, label in enumerate(labels):\n",
    "    label2id[label] = str(i)\n",
    "    id2label[str(i)] = label"
   ]
  },
  {
   "cell_type": "markdown",
   "metadata": {},
   "source": [
    "现在您可以将标签 id 转换为标签名称："
   ]
  },
  {
   "cell_type": "code",
   "execution_count": 8,
   "metadata": {},
   "outputs": [
    {
     "data": {
      "text/plain": [
       "'app_error'"
      ]
     },
     "execution_count": 8,
     "metadata": {},
     "output_type": "execute_result"
    }
   ],
   "source": [
    "id2label[str(2)]"
   ]
  },
  {
   "cell_type": "markdown",
   "metadata": {},
   "source": [
    "### 预处理"
   ]
  },
  {
   "cell_type": "markdown",
   "metadata": {},
   "source": [
    "下一步是加载 Wav2Vec2 特征提取器来处理音频信号："
   ]
  },
  {
   "cell_type": "code",
   "execution_count": 9,
   "metadata": {},
   "outputs": [
    {
     "name": "stderr",
     "output_type": "stream",
     "text": [
      "/home/zongxiao/anaconda3/envs/HFAudio/lib/python3.10/site-packages/transformers/configuration_utils.py:380: UserWarning: Passing `gradient_checkpointing` to a config initialization is deprecated and will be removed in v5 Transformers. Using `model.gradient_checkpointing_enable()` instead, or if you are using the `Trainer` API, pass `gradient_checkpointing=True` in your `TrainingArguments`.\n",
      "  warnings.warn(\n"
     ]
    }
   ],
   "source": [
    "from transformers import AutoFeatureExtractor\n",
    "\n",
    "feature_extractor = AutoFeatureExtractor.from_pretrained(\"facebook/wav2vec2-base\")"
   ]
  },
  {
   "cell_type": "markdown",
   "metadata": {},
   "source": [
    "MInDS-14 数据集的采样率为 8000khz（您可以在其数据集卡中找到此信息），这意味着您需要将数据集重新采样到 16000kHz 才能使用预训练的 Wav2Vec2 模型："
   ]
  },
  {
   "cell_type": "code",
   "execution_count": 10,
   "metadata": {},
   "outputs": [
    {
     "data": {
      "text/plain": [
       "{'audio': {'path': '/home/zongxiao/.cache/huggingface/datasets/downloads/extracted/e6a84153a628f86a81aa2d7a45218ecdfb7c4336eba93c41688306bc51ad856a/en-US~PAY_BILL/602ba5a4963e11ccd901ccb8.wav',\n",
       "  'array': array([2.09757859e-04, 1.58278723e-04, 3.78715421e-05, ...,\n",
       "         1.32179086e-04, 9.02071575e-04, 6.99228728e-04]),\n",
       "  'sampling_rate': 16000},\n",
       " 'intent_class': 13}"
      ]
     },
     "execution_count": 10,
     "metadata": {},
     "output_type": "execute_result"
    }
   ],
   "source": [
    "from datasets import Audio\n",
    "minds = minds.cast_column(\"audio\", Audio(sampling_rate=16_000))\n",
    "minds[\"train\"][0]"
   ]
  },
  {
   "cell_type": "markdown",
   "metadata": {},
   "source": [
    "现在创建一个预处理函数：\n",
    "\n",
    "1. 调用audio列来加载音频文件，并在必要时重新采样。\n",
    "2. 检查音频文件的采样率是否与模型预训练的音频数据的采样率相匹配。您可以在 Wav2Vec2模型卡中找到此信息。\n",
    "3. 设置最大输入长度以批量处理较长的输入而不截断它们。"
   ]
  },
  {
   "cell_type": "code",
   "execution_count": 11,
   "metadata": {},
   "outputs": [],
   "source": [
    "def preprocess_function(examples):\n",
    "    audio_arrays = [x[\"array\"] for x in examples[\"audio\"]]\n",
    "    inputs = feature_extractor(\n",
    "        audio_arrays, sampling_rate=feature_extractor.sampling_rate, max_length=16000, truncation=True\n",
    "    )\n",
    "    return inputs"
   ]
  },
  {
   "cell_type": "markdown",
   "metadata": {},
   "source": [
    "要将预处理函数应用于整个数据集，请使用 🤗 数据集映射函数。map您可以通过设置batched=True一次处理数据集的多个元素来加快速度。删除不需要的列，然后重命名intent_class为，label因为这是模型期望的名称："
   ]
  },
  {
   "cell_type": "code",
   "execution_count": 12,
   "metadata": {},
   "outputs": [
    {
     "data": {
      "application/vnd.jupyter.widget-view+json": {
       "model_id": "0c2869f3b0ea43a0902203ec35192aef",
       "version_major": 2,
       "version_minor": 0
      },
      "text/plain": [
       "Map:   0%|          | 0/450 [00:00<?, ? examples/s]"
      ]
     },
     "metadata": {},
     "output_type": "display_data"
    },
    {
     "data": {
      "application/vnd.jupyter.widget-view+json": {
       "model_id": "ca1554ac991f44a9ba70ef22f36b3314",
       "version_major": 2,
       "version_minor": 0
      },
      "text/plain": [
       "Map:   0%|          | 0/113 [00:00<?, ? examples/s]"
      ]
     },
     "metadata": {},
     "output_type": "display_data"
    }
   ],
   "source": [
    "encoded_minds = minds.map(preprocess_function, remove_columns=\"audio\", batched=True)\n",
    "encoded_minds = encoded_minds.rename_column(\"intent_class\", \"label\")"
   ]
  },
  {
   "cell_type": "markdown",
   "metadata": {},
   "source": [
    "### 评价"
   ]
  },
  {
   "cell_type": "markdown",
   "metadata": {},
   "source": [
    "在训练期间包含指标通常有助于评估模型的性能。您可以使用 🤗 Evaluate库快速加载评估方法。对于此任务，加载准确性指标（请参阅 🤗 评估快速浏览以了解有关如何加载和计算指标的更多信息）："
   ]
  },
  {
   "cell_type": "code",
   "execution_count": 13,
   "metadata": {},
   "outputs": [],
   "source": [
    "import evaluate\n",
    "\n",
    "accuracy = evaluate.load(\"accuracy\")\n"
   ]
  },
  {
   "cell_type": "markdown",
   "metadata": {},
   "source": [
    "然后创建一个函数，将您的预测和标签传递给计算以计算准确性："
   ]
  },
  {
   "cell_type": "code",
   "execution_count": 14,
   "metadata": {},
   "outputs": [],
   "source": [
    "import numpy as np\n",
    "\n",
    "\n",
    "def compute_metrics(eval_pred):\n",
    "    predictions = np.argmax(eval_pred.predictions, axis=1)\n",
    "    return accuracy.compute(predictions=predictions, references=eval_pred.label_ids)"
   ]
  },
  {
   "cell_type": "markdown",
   "metadata": {},
   "source": [
    "您的compute_metrics函数现在已准备就绪，您将在设置训练时返回该函数。"
   ]
  },
  {
   "cell_type": "markdown",
   "metadata": {},
   "source": [
    "### 训练"
   ]
  },
  {
   "cell_type": "markdown",
   "metadata": {},
   "source": [
    "<span style=background:Green>T如果您不熟悉使用Trainer微调模型，请查看此处的基本教程！</span>"
   ]
  },
  {
   "cell_type": "markdown",
   "metadata": {},
   "source": [
    "您现在就可以开始训练您的模型了！使用AutoModelForAudioClassification加载 Wav2Vec2以及预期标签的数量和标签映射："
   ]
  },
  {
   "cell_type": "code",
   "execution_count": 15,
   "metadata": {},
   "outputs": [
    {
     "name": "stderr",
     "output_type": "stream",
     "text": [
      "/home/zongxiao/anaconda3/envs/HFAudio/lib/python3.10/site-packages/transformers/configuration_utils.py:380: UserWarning: Passing `gradient_checkpointing` to a config initialization is deprecated and will be removed in v5 Transformers. Using `model.gradient_checkpointing_enable()` instead, or if you are using the `Trainer` API, pass `gradient_checkpointing=True` in your `TrainingArguments`.\n",
      "  warnings.warn(\n",
      "Some weights of Wav2Vec2ForSequenceClassification were not initialized from the model checkpoint at facebook/wav2vec2-base and are newly initialized: ['projector.weight', 'projector.bias', 'classifier.weight', 'classifier.bias']\n",
      "You should probably TRAIN this model on a down-stream task to be able to use it for predictions and inference.\n"
     ]
    }
   ],
   "source": [
    "from transformers import AutoModelForAudioClassification, TrainingArguments, Trainer\n",
    "\n",
    "num_labels = len(id2label)\n",
    "model = AutoModelForAudioClassification.from_pretrained(\n",
    "    \"facebook/wav2vec2-base\", num_labels=num_labels, label2id=label2id, id2label=id2label\n",
    ")"
   ]
  },
  {
   "cell_type": "markdown",
   "metadata": {},
   "source": [
    "此时，只剩下三步：\n",
    "\n",
    "1. 在TrainingArguments中定义训练超参数。唯一必需的参数是output_dir指定保存模型的位置。您可以通过设置将此模型推送到 Hub push_to_hub=True（您需要登录 Hugging Face 才能上传模型）。在每个 epoch 结束时，Trainer将评估准确性并保存训练检查点。\n",
    "\n",
    "2. 将训练参数以及模型、数据集、分词器、数据整理器和函数传递给\n",
    "Trainercompute_metrics。\n",
    "\n",
    "3. 调用train()来微调您的模型。"
   ]
  },
  {
   "cell_type": "code",
   "execution_count": 16,
   "metadata": {},
   "outputs": [
    {
     "data": {
      "text/html": [
       "\n",
       "    <div>\n",
       "      \n",
       "      <progress value='30' max='30' style='width:300px; height:20px; vertical-align: middle;'></progress>\n",
       "      [30/30 01:52, Epoch 8/10]\n",
       "    </div>\n",
       "    <table border=\"1\" class=\"dataframe\">\n",
       "  <thead>\n",
       " <tr style=\"text-align: left;\">\n",
       "      <th>Epoch</th>\n",
       "      <th>Training Loss</th>\n",
       "      <th>Validation Loss</th>\n",
       "      <th>Accuracy</th>\n",
       "    </tr>\n",
       "  </thead>\n",
       "  <tbody>\n",
       "    <tr>\n",
       "      <td>0</td>\n",
       "      <td>No log</td>\n",
       "      <td>2.644150</td>\n",
       "      <td>0.088496</td>\n",
       "    </tr>\n",
       "    <tr>\n",
       "      <td>1</td>\n",
       "      <td>No log</td>\n",
       "      <td>2.650759</td>\n",
       "      <td>0.053097</td>\n",
       "    </tr>\n",
       "    <tr>\n",
       "      <td>2</td>\n",
       "      <td>2.636000</td>\n",
       "      <td>2.652251</td>\n",
       "      <td>0.017699</td>\n",
       "    </tr>\n",
       "    <tr>\n",
       "      <td>4</td>\n",
       "      <td>2.636000</td>\n",
       "      <td>2.646824</td>\n",
       "      <td>0.097345</td>\n",
       "    </tr>\n",
       "    <tr>\n",
       "      <td>5</td>\n",
       "      <td>2.620500</td>\n",
       "      <td>2.650995</td>\n",
       "      <td>0.079646</td>\n",
       "    </tr>\n",
       "    <tr>\n",
       "      <td>6</td>\n",
       "      <td>2.620500</td>\n",
       "      <td>2.648434</td>\n",
       "      <td>0.079646</td>\n",
       "    </tr>\n",
       "    <tr>\n",
       "      <td>8</td>\n",
       "      <td>2.615400</td>\n",
       "      <td>2.648645</td>\n",
       "      <td>0.088496</td>\n",
       "    </tr>\n",
       "  </tbody>\n",
       "</table><p>"
      ],
      "text/plain": [
       "<IPython.core.display.HTML object>"
      ]
     },
     "metadata": {},
     "output_type": "display_data"
    },
    {
     "data": {
      "text/plain": [
       "TrainOutput(global_step=30, training_loss=2.6239901860555013, metrics={'train_runtime': 120.81, 'train_samples_per_second': 37.249, 'train_steps_per_second': 0.248, 'total_flos': 3.26841433344e+16, 'train_loss': 2.6239901860555013, 'epoch': 8.0})"
      ]
     },
     "execution_count": 16,
     "metadata": {},
     "output_type": "execute_result"
    }
   ],
   "source": [
    "training_args = TrainingArguments(\n",
    "    output_dir=\"my_awesome_mind_model\",\n",
    "    evaluation_strategy=\"epoch\",\n",
    "    save_strategy=\"epoch\",\n",
    "    learning_rate=3e-5,\n",
    "    per_device_train_batch_size=32,\n",
    "    gradient_accumulation_steps=4,\n",
    "    per_device_eval_batch_size=32,\n",
    "    num_train_epochs=10,\n",
    "    warmup_ratio=0.1,\n",
    "    logging_steps=10,\n",
    "    load_best_model_at_end=True,\n",
    "    metric_for_best_model=\"accuracy\",\n",
    "    push_to_hub=True,\n",
    ")\n",
    "\n",
    "trainer = Trainer(\n",
    "    model=model,\n",
    "    args=training_args,\n",
    "    train_dataset=encoded_minds[\"train\"],\n",
    "    eval_dataset=encoded_minds[\"test\"],\n",
    "    tokenizer=feature_extractor,\n",
    "    compute_metrics=compute_metrics,\n",
    ")\n",
    "\n",
    "trainer.train()"
   ]
  },
  {
   "cell_type": "markdown",
   "metadata": {},
   "source": [
    "训练完成后，使用push_to_hub()方法将您的模型共享到 Hub ，以便每个人都可以使用您的模型："
   ]
  },
  {
   "cell_type": "code",
   "execution_count": 17,
   "metadata": {},
   "outputs": [
    {
     "data": {
      "application/vnd.jupyter.widget-view+json": {
       "model_id": "aa38569699bd4b4faaccd54380b669bf",
       "version_major": 2,
       "version_minor": 0
      },
      "text/plain": [
       "pytorch_model.bin:   0%|          | 0.00/378M [00:00<?, ?B/s]"
      ]
     },
     "metadata": {},
     "output_type": "display_data"
    },
    {
     "data": {
      "text/plain": [
       "'https://huggingface.co/zongxiao/my_awesome_mind_model/tree/main/'"
      ]
     },
     "execution_count": 17,
     "metadata": {},
     "output_type": "execute_result"
    }
   ],
   "source": [
    "trainer.push_to_hub()"
   ]
  },
  {
   "cell_type": "markdown",
   "metadata": {},
   "source": [
    "### 推理"
   ]
  },
  {
   "cell_type": "markdown",
   "metadata": {},
   "source": [
    "太好了，现在您已经微调了模型，您可以使用它进行推理！\n",
    "\n",
    "加载您想要运行推理的音频文件。如果需要，请记住重新采样音频文件的采样率以匹配模型的采样率！"
   ]
  },
  {
   "cell_type": "code",
   "execution_count": 45,
   "metadata": {},
   "outputs": [],
   "source": [
    "from datasets import load_dataset, Audio\n",
    "\n",
    "dataset = load_dataset(\"./ZZXDatasets/minds14\", name=\"en-US\", split=\"train\")\n",
    "dataset = dataset.cast_column(\"audio\", Audio(sampling_rate=16000))\n",
    "sampling_rate = dataset.features[\"audio\"].sampling_rate\n",
    "audio_file = dataset[0][\"audio\"][\"path\"]"
   ]
  },
  {
   "cell_type": "code",
   "execution_count": 47,
   "metadata": {},
   "outputs": [
    {
     "data": {
      "application/vnd.jupyter.widget-view+json": {
       "model_id": "b5d0b69cbcdd4738ae2eed08310d1386",
       "version_major": 2,
       "version_minor": 0
      },
      "text/plain": [
       "VBox(children=(HTML(value='<center> <img\\nsrc=https://huggingface.co/front/assets/huggingface_logo-noborder.sv…"
      ]
     },
     "metadata": {},
     "output_type": "display_data"
    }
   ],
   "source": [
    "from huggingface_hub import notebook_login\n",
    "\n",
    "notebook_login()"
   ]
  },
  {
   "cell_type": "code",
   "execution_count": 50,
   "metadata": {},
   "outputs": [
    {
     "data": {
      "application/vnd.jupyter.widget-view+json": {
       "model_id": "6d34fa7dea0841eabbf8283b425643eb",
       "version_major": 2,
       "version_minor": 0
      },
      "text/plain": [
       "Downloading (…)lve/main/config.json:   0%|          | 0.00/3.10k [00:00<?, ?B/s]"
      ]
     },
     "metadata": {},
     "output_type": "display_data"
    },
    {
     "data": {
      "application/vnd.jupyter.widget-view+json": {
       "model_id": "56522a4ad2204253b9e43f55b5bb9c4c",
       "version_major": 2,
       "version_minor": 0
      },
      "text/plain": [
       "Downloading pytorch_model.bin:   0%|          | 0.00/378M [00:00<?, ?B/s]"
      ]
     },
     "metadata": {},
     "output_type": "display_data"
    },
    {
     "data": {
      "application/vnd.jupyter.widget-view+json": {
       "model_id": "526a2f62407c48908d7f5fab1a12065d",
       "version_major": 2,
       "version_minor": 0
      },
      "text/plain": [
       "Downloading (…)rocessor_config.json:   0%|          | 0.00/215 [00:00<?, ?B/s]"
      ]
     },
     "metadata": {},
     "output_type": "display_data"
    },
    {
     "data": {
      "text/plain": [
       "[{'score': 0.08231057971715927, 'label': 'card_issues'},\n",
       " {'score': 0.07625565677881241, 'label': 'freeze'},\n",
       " {'score': 0.07588177174329758, 'label': 'cash_deposit'},\n",
       " {'score': 0.07493145018815994, 'label': 'high_value_payment'},\n",
       " {'score': 0.07455172389745712, 'label': 'pay_bill'}]"
      ]
     },
     "execution_count": 50,
     "metadata": {},
     "output_type": "execute_result"
    }
   ],
   "source": [
    "from transformers import pipeline\n",
    "\n",
    "classifier = pipeline(\"audio-classification\", model=\"zongxiao/my_awesome_mind_model\")\n",
    "classifier(audio_file)"
   ]
  },
  {
   "cell_type": "markdown",
   "metadata": {},
   "source": [
    "pipeline如果您愿意，您还可以手动复制结果："
   ]
  },
  {
   "cell_type": "markdown",
   "metadata": {},
   "source": [
    "#### Pytorch"
   ]
  },
  {
   "cell_type": "markdown",
   "metadata": {},
   "source": [
    "加载特征提取器来预处理音频文件并返回inputPyTorch 张量："
   ]
  },
  {
   "cell_type": "code",
   "execution_count": 52,
   "metadata": {},
   "outputs": [],
   "source": [
    "from transformers import AutoFeatureExtractor\n",
    "\n",
    "feature_extractor = AutoFeatureExtractor.from_pretrained(\"zongxiao/my_awesome_mind_model\")\n",
    "inputs = feature_extractor(dataset[0][\"audio\"][\"array\"], sampling_rate=sampling_rate, return_tensors=\"pt\")"
   ]
  },
  {
   "cell_type": "markdown",
   "metadata": {},
   "source": [
    "将您的输入传递给模型并返回 logits："
   ]
  },
  {
   "cell_type": "code",
   "execution_count": 54,
   "metadata": {},
   "outputs": [],
   "source": [
    "from transformers import AutoModelForAudioClassification\n",
    "\n",
    "model = AutoModelForAudioClassification.from_pretrained(\"zongxiao/my_awesome_mind_model\")\n",
    "with torch.no_grad():\n",
    "    logits = model(**inputs).logits"
   ]
  },
  {
   "cell_type": "markdown",
   "metadata": {},
   "source": [
    "获取概率最高的类，并使用模型的id2label映射将其转换为标签："
   ]
  },
  {
   "cell_type": "code",
   "execution_count": 55,
   "metadata": {},
   "outputs": [
    {
     "data": {
      "text/plain": [
       "'card_issues'"
      ]
     },
     "execution_count": 55,
     "metadata": {},
     "output_type": "execute_result"
    }
   ],
   "source": [
    "import torch\n",
    "\n",
    "predicted_class_ids = torch.argmax(logits).item()\n",
    "predicted_label = model.config.id2label[predicted_class_ids]\n",
    "predicted_label"
   ]
  },
  {
   "cell_type": "markdown",
   "metadata": {},
   "source": [
    "## 使用 🤗 Transformer 微调音频分类"
   ]
  },
  {
   "cell_type": "markdown",
   "metadata": {},
   "source": [
    "本笔记本展示了如何微调用于自动语音识别的多语言预训练语音模型。\n",
    "\n",
    "该笔记本构建为在SUPERB 数据集的关键字识别子集上运行，具有来自模型中心的任何语音模型检查点，只要该模型具有带有序列分类头的版本（例如Wav2Vec2ForSequenceClassification）。\n",
    "\n",
    "根据您使用的型号和 GPU，您可能需要调整批量大小以避免内存不足错误。设置这两个参数，然后笔记本的其余部分应该可以顺利运行："
   ]
  },
  {
   "cell_type": "code",
   "execution_count": 18,
   "metadata": {},
   "outputs": [],
   "source": [
    "model_checkpoint = \"facebook/wav2vec2-base\"\n",
    "batch_size = 32"
   ]
  },
  {
   "cell_type": "code",
   "execution_count": 19,
   "metadata": {},
   "outputs": [
    {
     "data": {
      "application/vnd.jupyter.widget-view+json": {
       "model_id": "a289650afda64b7ba35135b7239cd408",
       "version_major": 2,
       "version_minor": 0
      },
      "text/plain": [
       "VBox(children=(HTML(value='<center> <img\\nsrc=https://huggingface.co/front/assets/huggingface_logo-noborder.sv…"
      ]
     },
     "metadata": {},
     "output_type": "display_data"
    }
   ],
   "source": [
    "from huggingface_hub import notebook_login\n",
    "\n",
    "notebook_login()"
   ]
  },
  {
   "cell_type": "markdown",
   "metadata": {},
   "source": [
    "我们还快速上传一些遥测数据 - 这告诉我们正在使用哪些示例和软件版本，以便我们知道在哪里优先考虑我们的维护工作。我们不收集（或关心）任何个人身份信息，但如果您不想被统计在内，请随时跳过此步骤或完全删除此单元格。"
   ]
  },
  {
   "cell_type": "code",
   "execution_count": 20,
   "metadata": {},
   "outputs": [],
   "source": [
    "from transformers.utils import send_example_telemetry\n",
    "\n",
    "send_example_telemetry(\"audio_classification_notebook\", framework=\"pytorch\")"
   ]
  },
  {
   "cell_type": "markdown",
   "metadata": {},
   "source": [
    "### 在音频分类任务上微调模型"
   ]
  },
  {
   "cell_type": "markdown",
   "metadata": {},
   "source": [
    "在本笔记本中，我们将了解如何将🤗 Transformers声学模型之一微调为SUPERB Benchmark的关键字识别任务\n",
    "\n",
    "关键字识别 (KS) 通过将话语分类为一组预定义的单词来检测预先注册的关键字。SUPERB 使用广泛使用的语音命令数据集 v1.0 来完成该任务。该数据集由十类关键字、一类用于沉默的类和一个包含误报的未知类组成。"
   ]
  },
  {
   "cell_type": "markdown",
   "metadata": {},
   "source": [
    "#### 加载数据集"
   ]
  },
  {
   "cell_type": "markdown",
   "metadata": {},
   "source": [
    "我们将使用🤗数据集库下载数据并获取我们需要用于评估的准确性指标。这可以通过函数load_dataset和轻松完成load_metric。"
   ]
  },
  {
   "cell_type": "code",
   "execution_count": 21,
   "metadata": {},
   "outputs": [],
   "source": [
    "from datasets import load_dataset, load_metric"
   ]
  },
  {
   "cell_type": "code",
   "execution_count": 22,
   "metadata": {},
   "outputs": [
    {
     "data": {
      "application/vnd.jupyter.widget-view+json": {
       "model_id": "dd221e70e4c94b4cbb31bcf7d72727d7",
       "version_major": 2,
       "version_minor": 0
      },
      "text/plain": [
       "Downloading builder script:   0%|          | 0.00/30.2k [00:00<?, ?B/s]"
      ]
     },
     "metadata": {},
     "output_type": "display_data"
    },
    {
     "data": {
      "application/vnd.jupyter.widget-view+json": {
       "model_id": "b54d5c5e452c460abead4d6acad9fd38",
       "version_major": 2,
       "version_minor": 0
      },
      "text/plain": [
       "Downloading metadata:   0%|          | 0.00/38.1k [00:00<?, ?B/s]"
      ]
     },
     "metadata": {},
     "output_type": "display_data"
    },
    {
     "data": {
      "application/vnd.jupyter.widget-view+json": {
       "model_id": "c3b0f1be70c34113ae46a592cbb73388",
       "version_major": 2,
       "version_minor": 0
      },
      "text/plain": [
       "Downloading readme:   0%|          | 0.00/57.1k [00:00<?, ?B/s]"
      ]
     },
     "metadata": {},
     "output_type": "display_data"
    },
    {
     "data": {
      "application/vnd.jupyter.widget-view+json": {
       "model_id": "8664668a98e94a1a84e83eddfcdc3f4b",
       "version_major": 2,
       "version_minor": 0
      },
      "text/plain": [
       "Downloading data files:   0%|          | 0/2 [00:00<?, ?it/s]"
      ]
     },
     "metadata": {},
     "output_type": "display_data"
    },
    {
     "data": {
      "application/vnd.jupyter.widget-view+json": {
       "model_id": "74738e31a8244a09b8049cc2075d9108",
       "version_major": 2,
       "version_minor": 0
      },
      "text/plain": [
       "Downloading data:   0%|          | 0.00/1.49G [00:00<?, ?B/s]"
      ]
     },
     "metadata": {},
     "output_type": "display_data"
    },
    {
     "data": {
      "application/vnd.jupyter.widget-view+json": {
       "model_id": "0882c2a756d24aa4b57c6d536f1c491d",
       "version_major": 2,
       "version_minor": 0
      },
      "text/plain": [
       "Downloading data:   0%|          | 0.00/71.3M [00:00<?, ?B/s]"
      ]
     },
     "metadata": {},
     "output_type": "display_data"
    },
    {
     "data": {
      "application/vnd.jupyter.widget-view+json": {
       "model_id": "bae7491796e445c59b2fa55fe45c4acb",
       "version_major": 2,
       "version_minor": 0
      },
      "text/plain": [
       "Extracting data files:   0%|          | 0/2 [00:00<?, ?it/s]"
      ]
     },
     "metadata": {},
     "output_type": "display_data"
    },
    {
     "data": {
      "application/vnd.jupyter.widget-view+json": {
       "model_id": "b4f54dd7f9c346e685494bdca112ef08",
       "version_major": 2,
       "version_minor": 0
      },
      "text/plain": [
       "Generating train split:   0%|          | 0/51094 [00:00<?, ? examples/s]"
      ]
     },
     "metadata": {},
     "output_type": "display_data"
    },
    {
     "data": {
      "application/vnd.jupyter.widget-view+json": {
       "model_id": "80479238e8a34c79b2d721206a766f28",
       "version_major": 2,
       "version_minor": 0
      },
      "text/plain": [
       "Generating validation split:   0%|          | 0/6798 [00:00<?, ? examples/s]"
      ]
     },
     "metadata": {},
     "output_type": "display_data"
    },
    {
     "data": {
      "application/vnd.jupyter.widget-view+json": {
       "model_id": "78f4f52938ee4261afa64b61a70adae0",
       "version_major": 2,
       "version_minor": 0
      },
      "text/plain": [
       "Generating test split:   0%|          | 0/3081 [00:00<?, ? examples/s]"
      ]
     },
     "metadata": {},
     "output_type": "display_data"
    },
    {
     "name": "stderr",
     "output_type": "stream",
     "text": [
      "/tmp/ipykernel_4714/35737003.py:2: FutureWarning: load_metric is deprecated and will be removed in the next major version of datasets. Use 'evaluate.load' instead, from the new library 🤗 Evaluate: https://huggingface.co/docs/evaluate\n",
      "  metric = load_metric(\"accuracy\")\n"
     ]
    },
    {
     "data": {
      "application/vnd.jupyter.widget-view+json": {
       "model_id": "fb68a1f3af4d481ba1149b3ee362a98a",
       "version_major": 2,
       "version_minor": 0
      },
      "text/plain": [
       "Downloading builder script:   0%|          | 0.00/1.65k [00:00<?, ?B/s]"
      ]
     },
     "metadata": {},
     "output_type": "display_data"
    }
   ],
   "source": [
    "dataset = load_dataset(\"superb\", \"ks\")\n",
    "metric = load_metric(\"accuracy\")"
   ]
  },
  {
   "cell_type": "markdown",
   "metadata": {},
   "source": [
    "该dataset对象本身是一个DatasetDict，其中包含一个用于训练、验证和测试集的密钥。"
   ]
  },
  {
   "cell_type": "code",
   "execution_count": 23,
   "metadata": {},
   "outputs": [
    {
     "data": {
      "text/plain": [
       "DatasetDict({\n",
       "    train: Dataset({\n",
       "        features: ['file', 'audio', 'label'],\n",
       "        num_rows: 51094\n",
       "    })\n",
       "    validation: Dataset({\n",
       "        features: ['file', 'audio', 'label'],\n",
       "        num_rows: 6798\n",
       "    })\n",
       "    test: Dataset({\n",
       "        features: ['file', 'audio', 'label'],\n",
       "        num_rows: 3081\n",
       "    })\n",
       "})"
      ]
     },
     "execution_count": 23,
     "metadata": {},
     "output_type": "execute_result"
    }
   ],
   "source": [
    "dataset"
   ]
  },
  {
   "cell_type": "markdown",
   "metadata": {},
   "source": [
    "要访问实际元素，您需要先选择一个拆分，然后给出一个索引："
   ]
  },
  {
   "cell_type": "code",
   "execution_count": 24,
   "metadata": {},
   "outputs": [
    {
     "data": {
      "text/plain": [
       "{'file': '/home/zongxiao/.cache/huggingface/datasets/downloads/extracted/547529e0aa90b2ae823bce8003e7322f0883ef626dda4e40ddfb90b3f3aec7f8/go/e41a903b_nohash_4.wav',\n",
       " 'audio': {'path': '/home/zongxiao/.cache/huggingface/datasets/downloads/extracted/547529e0aa90b2ae823bce8003e7322f0883ef626dda4e40ddfb90b3f3aec7f8/go/e41a903b_nohash_4.wav',\n",
       "  'array': array([-1.22070312e-04,  3.05175781e-05,  1.83105469e-04, ...,\n",
       "         -4.88281250e-04, -5.49316406e-04, -3.35693359e-04]),\n",
       "  'sampling_rate': 16000},\n",
       " 'label': 9}"
      ]
     },
     "execution_count": 24,
     "metadata": {},
     "output_type": "execute_result"
    }
   ],
   "source": [
    "dataset[\"test\"][1000]"
   ]
  },
  {
   "cell_type": "markdown",
   "metadata": {},
   "source": [
    "如您所见，该label字段不是实际的字符串标签。默认情况下，ClassLabel为了方便起见，字段被编码为整数："
   ]
  },
  {
   "cell_type": "code",
   "execution_count": 25,
   "metadata": {},
   "outputs": [
    {
     "data": {
      "text/plain": [
       "ClassLabel(names=['yes', 'no', 'up', 'down', 'left', 'right', 'on', 'off', 'stop', 'go', '_silence_', '_unknown_'], id=None)"
      ]
     },
     "execution_count": 25,
     "metadata": {},
     "output_type": "execute_result"
    }
   ],
   "source": [
    "dataset[\"train\"].features[\"label\"]"
   ]
  },
  {
   "cell_type": "markdown",
   "metadata": {},
   "source": [
    "让我们创建一个id2label字典来将它们解码回字符串并看看它们是什么。label2id当我们稍后加载模型时，逆函数也很有用。"
   ]
  },
  {
   "cell_type": "code",
   "execution_count": 26,
   "metadata": {},
   "outputs": [
    {
     "data": {
      "text/plain": [
       "'go'"
      ]
     },
     "execution_count": 26,
     "metadata": {},
     "output_type": "execute_result"
    }
   ],
   "source": [
    "labels = dataset[\"train\"].features[\"label\"].names\n",
    "label2id, id2label = dict(), dict()\n",
    "for i, label in enumerate(labels):\n",
    "    label2id[label] = str(i)\n",
    "    id2label[str(i)] = label\n",
    "\n",
    "id2label[\"9\"]"
   ]
  },
  {
   "cell_type": "markdown",
   "metadata": {},
   "source": [
    "Wav2Vec2期望输入采用 16 kHz 的一维数组格式。这意味着必须加载音频文件并重新采样。\n",
    "\n",
    "值得庆幸的是，datasets在调用 column 时会自动执行此操作audio。让我们尝试一下吧。"
   ]
  },
  {
   "cell_type": "code",
   "execution_count": 27,
   "metadata": {},
   "outputs": [
    {
     "data": {
      "text/plain": [
       "{'path': '/home/zongxiao/.cache/huggingface/datasets/downloads/extracted/547529e0aa90b2ae823bce8003e7322f0883ef626dda4e40ddfb90b3f3aec7f8/go/e41a903b_nohash_4.wav',\n",
       " 'array': array([-1.22070312e-04,  3.05175781e-05,  1.83105469e-04, ...,\n",
       "        -4.88281250e-04, -5.49316406e-04, -3.35693359e-04]),\n",
       " 'sampling_rate': 16000}"
      ]
     },
     "execution_count": 27,
     "metadata": {},
     "output_type": "execute_result"
    }
   ],
   "source": [
    "dataset[\"test\"][1000][\"audio\"]"
   ]
  },
  {
   "cell_type": "markdown",
   "metadata": {},
   "source": [
    "我们可以看到音频文件已经自动加载了。这要归功于中引入的新\"Audio\"功能datasets == 1.13.3，该功能可以在呼叫时即时加载和重新采样音频文件。\n",
    "\n",
    "采样率设置为 16kHz，这是Wav2Vec2输入的预期值。\n",
    "\n",
    "为了了解命令听起来是什么样的，以下代码片段将渲染从数据集中随机选取的一些音频示例。\n",
    "\n",
    "注意：您可以运行以下单元几次来收听不同的音频样本。"
   ]
  },
  {
   "cell_type": "code",
   "execution_count": 28,
   "metadata": {},
   "outputs": [
    {
     "name": "stdout",
     "output_type": "stream",
     "text": [
      "Label: _unknown_\n",
      "Shape: (11606,), sampling rate: 16000\n"
     ]
    },
    {
     "data": {
      "text/html": [
       "\n",
       "                <audio  controls=\"controls\" >\n",
       "                    <source src=\"data:audio/wav;base64,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\" type=\"audio/wav\" />\n",
       "                    Your browser does not support the audio element.\n",
       "                </audio>\n",
       "              "
      ],
      "text/plain": [
       "<IPython.lib.display.Audio object>"
      ]
     },
     "metadata": {},
     "output_type": "display_data"
    },
    {
     "name": "stdout",
     "output_type": "stream",
     "text": [
      "\n",
      "Label: down\n",
      "Shape: (16000,), sampling rate: 16000\n"
     ]
    },
    {
     "data": {
      "text/html": [
       "\n",
       "                <audio  controls=\"controls\" >\n",
       "                    <source src=\"data:audio/wav;base64,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\" type=\"audio/wav\" />\n",
       "                    Your browser does not support the audio element.\n",
       "                </audio>\n",
       "              "
      ],
      "text/plain": [
       "<IPython.lib.display.Audio object>"
      ]
     },
     "metadata": {},
     "output_type": "display_data"
    },
    {
     "name": "stdout",
     "output_type": "stream",
     "text": [
      "\n",
      "Label: _unknown_\n",
      "Shape: (16000,), sampling rate: 16000\n"
     ]
    },
    {
     "data": {
      "text/html": [
       "\n",
       "                <audio  controls=\"controls\" >\n",
       "                    <source src=\"data:audio/wav;base64,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\" type=\"audio/wav\" />\n",
       "                    Your browser does not support the audio element.\n",
       "                </audio>\n",
       "              "
      ],
      "text/plain": [
       "<IPython.lib.display.Audio object>"
      ]
     },
     "metadata": {},
     "output_type": "display_data"
    },
    {
     "name": "stdout",
     "output_type": "stream",
     "text": [
      "\n",
      "Label: yes\n",
      "Shape: (16000,), sampling rate: 16000\n"
     ]
    },
    {
     "data": {
      "text/html": [
       "\n",
       "                <audio  controls=\"controls\" >\n",
       "                    <source src=\"data:audio/wav;base64,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\" type=\"audio/wav\" />\n",
       "                    Your browser does not support the audio element.\n",
       "                </audio>\n",
       "              "
      ],
      "text/plain": [
       "<IPython.lib.display.Audio object>"
      ]
     },
     "metadata": {},
     "output_type": "display_data"
    },
    {
     "name": "stdout",
     "output_type": "stream",
     "text": [
      "\n",
      "Label: left\n",
      "Shape: (16000,), sampling rate: 16000\n"
     ]
    },
    {
     "data": {
      "text/html": [
       "\n",
       "                <audio  controls=\"controls\" >\n",
       "                    <source src=\"data:audio/wav;base64,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\" type=\"audio/wav\" />\n",
       "                    Your browser does not support the audio element.\n",
       "                </audio>\n",
       "              "
      ],
      "text/plain": [
       "<IPython.lib.display.Audio object>"
      ]
     },
     "metadata": {},
     "output_type": "display_data"
    },
    {
     "name": "stdout",
     "output_type": "stream",
     "text": [
      "\n"
     ]
    }
   ],
   "source": [
    "import random\n",
    "from IPython.display import Audio, display\n",
    "\n",
    "for _ in range(5):\n",
    "    rand_idx = random.randint(0, len(dataset[\"train\"])-1)\n",
    "    example = dataset[\"train\"][rand_idx]\n",
    "    audio = example[\"audio\"]\n",
    "\n",
    "    print(f'Label: {id2label[str(example[\"label\"])]}')\n",
    "    print(f'Shape: {audio[\"array\"].shape}, sampling rate: {audio[\"sampling_rate\"]}')\n",
    "    display(Audio(audio[\"array\"], rate=audio[\"sampling_rate\"]))\n",
    "    print()"
   ]
  },
  {
   "cell_type": "markdown",
   "metadata": {},
   "source": [
    "如果您运行该单元几次，您会发现尽管长度略有变化，但大多数样本的长度约为 1 秒 ( duration = audio_length / sampling_rate)。因此我们可以安全地将样本截断并填充到16000."
   ]
  },
  {
   "cell_type": "markdown",
   "metadata": {},
   "source": [
    "#### 预处理数据"
   ]
  },
  {
   "cell_type": "markdown",
   "metadata": {},
   "source": [
    "在我们将这些音频剪辑输入到我们的模型之前，我们需要对它们进行预处理。这是由🤗 Transformers 完成的FeatureExtractor，它将规范化输入并将其设置为模型期望的格式，并生成模型所需的其他输入。\n",
    "\n",
    "为了完成所有这些，我们使用该AutoFeatureExtractor.from_pretrained方法实例化我们的特征提取器，这将确保我们获得与我们想要使用的模型架构相对应的预处理器。"
   ]
  },
  {
   "cell_type": "code",
   "execution_count": 30,
   "metadata": {},
   "outputs": [
    {
     "name": "stderr",
     "output_type": "stream",
     "text": [
      "/home/zongxiao/anaconda3/envs/HFAudio/lib/python3.10/site-packages/transformers/configuration_utils.py:380: UserWarning: Passing `gradient_checkpointing` to a config initialization is deprecated and will be removed in v5 Transformers. Using `model.gradient_checkpointing_enable()` instead, or if you are using the `Trainer` API, pass `gradient_checkpointing=True` in your `TrainingArguments`.\n",
      "  warnings.warn(\n"
     ]
    },
    {
     "data": {
      "text/plain": [
       "Wav2Vec2FeatureExtractor {\n",
       "  \"do_normalize\": true,\n",
       "  \"feature_extractor_type\": \"Wav2Vec2FeatureExtractor\",\n",
       "  \"feature_size\": 1,\n",
       "  \"padding_side\": \"right\",\n",
       "  \"padding_value\": 0.0,\n",
       "  \"return_attention_mask\": false,\n",
       "  \"sampling_rate\": 16000\n",
       "}"
      ]
     },
     "execution_count": 30,
     "metadata": {},
     "output_type": "execute_result"
    }
   ],
   "source": [
    "from transformers import AutoFeatureExtractor\n",
    "\n",
    "feature_extractor = AutoFeatureExtractor.from_pretrained(model_checkpoint)\n",
    "feature_extractor"
   ]
  },
  {
   "cell_type": "markdown",
   "metadata": {},
   "source": [
    "正如我们之前注意到的，样本大约有 1 秒长，所以我们在这里设置："
   ]
  },
  {
   "cell_type": "code",
   "execution_count": 31,
   "metadata": {},
   "outputs": [],
   "source": [
    "max_duration = 1.0  # seconds"
   ]
  },
  {
   "cell_type": "markdown",
   "metadata": {},
   "source": [
    "然后我们可以编写对样本进行预处理的函数。我们只需将feature_extractor参数truncation=True以及最大样本长度提供给它们。这将确保像类中的输入一样的非常长的输入_silence_可以安全地进行批处理。"
   ]
  },
  {
   "cell_type": "code",
   "execution_count": 32,
   "metadata": {},
   "outputs": [],
   "source": [
    "def preprocess_function(examples):\n",
    "    audio_arrays = [x[\"array\"] for x in examples[\"audio\"]]\n",
    "    inputs = feature_extractor(\n",
    "        audio_arrays, \n",
    "        sampling_rate=feature_extractor.sampling_rate, \n",
    "        max_length=int(feature_extractor.sampling_rate * max_duration), \n",
    "        truncation=True, \n",
    "    )\n",
    "    return inputs"
   ]
  },
  {
   "cell_type": "markdown",
   "metadata": {},
   "source": [
    "特征提取器将为每个示例返回一个 numpy 数组列表："
   ]
  },
  {
   "cell_type": "code",
   "execution_count": 33,
   "metadata": {},
   "outputs": [
    {
     "data": {
      "text/plain": [
       "{'input_values': [array([-9.1631009e-05, -9.1631009e-05, -9.1631009e-05, ...,\n",
       "       -4.6719767e-02, -8.0353022e-01, -1.3182331e+00], dtype=float32), array([0.01049979, 0.01049979, 0.01049979, ..., 0.6454253 , 0.43378347,\n",
       "       0.25741526], dtype=float32), array([ 9.0340059e-04,  9.0340059e-04,  9.0340059e-04, ...,\n",
       "       -1.7281245e-01,  2.2313449e-01,  1.9931581e+00], dtype=float32), array([ 1.5586768 ,  0.3870289 ,  0.74101615, ..., -0.8897349 ,\n",
       "       -0.7703889 , -0.09471782], dtype=float32), array([-0.01518929, -0.01518929, -0.01518929, ..., -0.84138   ,\n",
       "        0.22227868, -0.02409434], dtype=float32)]}"
      ]
     },
     "execution_count": 33,
     "metadata": {},
     "output_type": "execute_result"
    }
   ],
   "source": [
    "preprocess_function(dataset['train'][:5])"
   ]
  },
  {
   "cell_type": "markdown",
   "metadata": {},
   "source": [
    "要将此函数应用于数据集中的所有话语，我们只需使用之前创建的对象map的方法即可。dataset这会将函数应用于 中所有分割的所有元素dataset，因此我们的训练、验证和测试数据将在一个命令中进行预处理。"
   ]
  },
  {
   "cell_type": "code",
   "execution_count": 34,
   "metadata": {},
   "outputs": [
    {
     "data": {
      "application/vnd.jupyter.widget-view+json": {
       "model_id": "fea542b1e533436094fe9f98a6b6ba5e",
       "version_major": 2,
       "version_minor": 0
      },
      "text/plain": [
       "Map:   0%|          | 0/51094 [00:00<?, ? examples/s]"
      ]
     },
     "metadata": {},
     "output_type": "display_data"
    },
    {
     "data": {
      "application/vnd.jupyter.widget-view+json": {
       "model_id": "99c70b20b7d24cf9bffd6cc3440bbaa0",
       "version_major": 2,
       "version_minor": 0
      },
      "text/plain": [
       "Map:   0%|          | 0/6798 [00:00<?, ? examples/s]"
      ]
     },
     "metadata": {},
     "output_type": "display_data"
    },
    {
     "data": {
      "application/vnd.jupyter.widget-view+json": {
       "model_id": "9dd6379705654d6c9d861f8c39da0e13",
       "version_major": 2,
       "version_minor": 0
      },
      "text/plain": [
       "Map:   0%|          | 0/3081 [00:00<?, ? examples/s]"
      ]
     },
     "metadata": {},
     "output_type": "display_data"
    },
    {
     "data": {
      "text/plain": [
       "DatasetDict({\n",
       "    train: Dataset({\n",
       "        features: ['label', 'input_values'],\n",
       "        num_rows: 51094\n",
       "    })\n",
       "    validation: Dataset({\n",
       "        features: ['label', 'input_values'],\n",
       "        num_rows: 6798\n",
       "    })\n",
       "    test: Dataset({\n",
       "        features: ['label', 'input_values'],\n",
       "        num_rows: 3081\n",
       "    })\n",
       "})"
      ]
     },
     "execution_count": 34,
     "metadata": {},
     "output_type": "execute_result"
    }
   ],
   "source": [
    "encoded_dataset = dataset.map(preprocess_function, remove_columns=[\"audio\", \"file\"], batched=True)\n",
    "encoded_dataset"
   ]
  },
  {
   "cell_type": "markdown",
   "metadata": {},
   "source": [
    "更好的是，结果会由 🤗 数据集库自动缓存，以避免下次运行笔记本时在此步骤上花费时间。🤗 数据集库通常足够智能，可以检测您传递给映射的函数何时发生更改（因此需要不使用缓存数据）。🤗 Datasets 在使用缓存文件时会警告您，您可以传入load_from_cache_file=False调用以map不使用缓存文件并强制再次应用预处理。"
   ]
  },
  {
   "cell_type": "markdown",
   "metadata": {},
   "source": [
    "#### 训练模型"
   ]
  },
  {
   "cell_type": "markdown",
   "metadata": {},
   "source": [
    "现在我们的数据已准备就绪，我们可以下载预训练的模型并对其进行微调。对于分类，我们使用AutoModelForAudioClassification类。与特征提取器一样，该from_pretrained方法将为我们下载并缓存模型。由于标签 ID 和标签数量取决于数据集，因此我们在此处传递num_labels、label2id和：id2labelmodel_checkpoint"
   ]
  },
  {
   "cell_type": "code",
   "execution_count": 35,
   "metadata": {},
   "outputs": [
    {
     "name": "stderr",
     "output_type": "stream",
     "text": [
      "Some weights of Wav2Vec2ForSequenceClassification were not initialized from the model checkpoint at facebook/wav2vec2-base and are newly initialized: ['projector.weight', 'projector.bias', 'classifier.weight', 'classifier.bias']\n",
      "You should probably TRAIN this model on a down-stream task to be able to use it for predictions and inference.\n"
     ]
    }
   ],
   "source": [
    "from transformers import AutoModelForAudioClassification, TrainingArguments, Trainer\n",
    "\n",
    "num_labels = len(id2label)\n",
    "model = AutoModelForAudioClassification.from_pretrained(\n",
    "    model_checkpoint, \n",
    "    num_labels=num_labels,\n",
    "    label2id=label2id,\n",
    "    id2label=id2label,\n",
    ")"
   ]
  },
  {
   "cell_type": "markdown",
   "metadata": {},
   "source": [
    "该警告告诉我们，我们正在丢弃一些权重（quantizer和project_q层）并随机初始化其他一些权重（projector和classifier层）。在这种情况下，这是预期的，因为我们正在删除用于在无监督矢量量化目标上预训练模型的头，并将其替换为我们没有预训练权重的新头，因此库警告我们应该罚款-在使用模型进行推理之前对其进行调整，这正是我们要做的。\n",
    "\n",
    "要实例化Trainer，我们需要定义训练配置和评估指标。最重要的是TrainingArguments，它是一个包含自定义训练的所有属性的类。它需要一个文件夹名称，该名称将用于保存模型的检查点，所有其他参数都是可选的："
   ]
  },
  {
   "cell_type": "code",
   "execution_count": 36,
   "metadata": {},
   "outputs": [],
   "source": [
    "model_name = model_checkpoint.split(\"/\")[-1]\n",
    "\n",
    "args = TrainingArguments(\n",
    "    f\"{model_name}-finetuned-ks\",\n",
    "    evaluation_strategy = \"epoch\",\n",
    "    save_strategy = \"epoch\",\n",
    "    learning_rate=3e-5,\n",
    "    per_device_train_batch_size=batch_size,\n",
    "    gradient_accumulation_steps=4,\n",
    "    per_device_eval_batch_size=batch_size,\n",
    "    num_train_epochs=5,\n",
    "    warmup_ratio=0.1,\n",
    "    logging_steps=10,\n",
    "    load_best_model_at_end=True,\n",
    "    metric_for_best_model=\"accuracy\",\n",
    "    push_to_hub=True,\n",
    ")"
   ]
  },
  {
   "cell_type": "markdown",
   "metadata": {},
   "source": [
    "在这里，我们设置在每个 epoch 结束时进行评估，调整学习率，使用batch_size笔记本顶部的定义并自定义训练的 epoch 数以及权重衰减。由于最佳模型可能不是训练结束时的模型，因此我们要求加载训练结束时Trainer保存的最佳模型（根据）。metric_name\n",
    "\n",
    "最后一个参数push_to_hub允许 Trainer 在训练期间定期将模型推送到Hub。如果您没有按照笔记本顶部的安装步骤进行操作，请将其删除。如果您想使用与存储库名称不同的名称在本地保存模型，或者如果您想将模型推送到组织而不是您的名称空间下，请使用参数来设置存储库名称（hub_model_id需要是全名，包括您的命名空间：例如\"anton-l/wav2vec2-finetuned-ks\"或\"huggingface/anton-l/wav2vec2-finetuned-ks\")。\n",
    "\n",
    "接下来，我们需要定义一个函数来计算预测的指标，该函数将仅使用metric我们之前加载的数据。我们唯一要做的预处理就是获取预测 logits 的 argmax："
   ]
  },
  {
   "cell_type": "code",
   "execution_count": 37,
   "metadata": {},
   "outputs": [],
   "source": [
    "import numpy as np\n",
    "\n",
    "def compute_metrics(eval_pred):\n",
    "    \"\"\"Computes accuracy on a batch of predictions\"\"\"\n",
    "    predictions = np.argmax(eval_pred.predictions, axis=1)\n",
    "    return metric.compute(predictions=predictions, references=eval_pred.label_ids)"
   ]
  },
  {
   "cell_type": "markdown",
   "metadata": {},
   "source": [
    "然后我们只需将所有这些以及我们的数据集传递到Trainer："
   ]
  },
  {
   "cell_type": "code",
   "execution_count": 38,
   "metadata": {},
   "outputs": [],
   "source": [
    "trainer = Trainer(\n",
    "    model,\n",
    "    args,\n",
    "    train_dataset=encoded_dataset[\"train\"],\n",
    "    eval_dataset=encoded_dataset[\"validation\"],\n",
    "    tokenizer=feature_extractor,\n",
    "    compute_metrics=compute_metrics\n",
    ")"
   ]
  },
  {
   "cell_type": "markdown",
   "metadata": {},
   "source": [
    "您可能想知道为什么当我们已经预处理了数据时我们还要将 传递为feature_extractor分词器。这是因为我们将在最后一次使用它，通过应用填充来使我们收集的所有样本具有相同的长度，这需要了解模型对填充的偏好（向左还是向右？使用哪个标记？）。有feature_extractor一个 pad 方法可以为我们完成所有这些工作，并且Trainer将使用它。您可以通过定义和传递您自己的部分来自定义此部分，data_collator该部分将接收像上面看到的字典一样的样本，并且需要返回张量字典。\n",
    "\n",
    "现在我们可以通过调用以下train方法来微调我们的模型："
   ]
  },
  {
   "cell_type": "code",
   "execution_count": 39,
   "metadata": {},
   "outputs": [
    {
     "data": {
      "text/html": [
       "\n",
       "    <div>\n",
       "      \n",
       "      <progress value='1995' max='1995' style='width:300px; height:20px; vertical-align: middle;'></progress>\n",
       "      [1995/1995 5:26:31, Epoch 4/5]\n",
       "    </div>\n",
       "    <table border=\"1\" class=\"dataframe\">\n",
       "  <thead>\n",
       " <tr style=\"text-align: left;\">\n",
       "      <th>Epoch</th>\n",
       "      <th>Training Loss</th>\n",
       "      <th>Validation Loss</th>\n",
       "      <th>Accuracy</th>\n",
       "    </tr>\n",
       "  </thead>\n",
       "  <tbody>\n",
       "    <tr>\n",
       "      <td>0</td>\n",
       "      <td>0.692400</td>\n",
       "      <td>0.581311</td>\n",
       "      <td>0.888497</td>\n",
       "    </tr>\n",
       "    <tr>\n",
       "      <td>1</td>\n",
       "      <td>0.256800</td>\n",
       "      <td>0.179234</td>\n",
       "      <td>0.977640</td>\n",
       "    </tr>\n",
       "    <tr>\n",
       "      <td>2</td>\n",
       "      <td>0.204800</td>\n",
       "      <td>0.112561</td>\n",
       "      <td>0.980435</td>\n",
       "    </tr>\n",
       "    <tr>\n",
       "      <td>4</td>\n",
       "      <td>0.163700</td>\n",
       "      <td>0.092447</td>\n",
       "      <td>0.981612</td>\n",
       "    </tr>\n",
       "  </tbody>\n",
       "</table><p>"
      ],
      "text/plain": [
       "<IPython.core.display.HTML object>"
      ]
     },
     "metadata": {},
     "output_type": "display_data"
    },
    {
     "data": {
      "text/plain": [
       "TrainOutput(global_step=1995, training_loss=0.46572097808794866, metrics={'train_runtime': 19595.5511, 'train_samples_per_second': 13.037, 'train_steps_per_second': 0.102, 'total_flos': 2.3180194781952e+18, 'train_loss': 0.46572097808794866, 'epoch': 5.0})"
      ]
     },
     "execution_count": 39,
     "metadata": {},
     "output_type": "execute_result"
    }
   ],
   "source": [
    "trainer.train()"
   ]
  },
  {
   "cell_type": "markdown",
   "metadata": {},
   "source": [
    "我们可以使用该方法检查evaluate我们Trainer是否正确重新加载了最佳模型（如果不是最后一个）："
   ]
  },
  {
   "cell_type": "code",
   "execution_count": 41,
   "metadata": {},
   "outputs": [
    {
     "data": {
      "text/html": [
       "\n",
       "    <div>\n",
       "      \n",
       "      <progress value='213' max='213' style='width:300px; height:20px; vertical-align: middle;'></progress>\n",
       "      [213/213 01:11]\n",
       "    </div>\n",
       "    "
      ],
      "text/plain": [
       "<IPython.core.display.HTML object>"
      ]
     },
     "metadata": {},
     "output_type": "display_data"
    },
    {
     "data": {
      "text/plain": [
       "{'eval_loss': 0.09421850740909576,\n",
       " 'eval_accuracy': 0.9824948514268903,\n",
       " 'eval_runtime': 72.4672,\n",
       " 'eval_samples_per_second': 93.808,\n",
       " 'eval_steps_per_second': 2.939,\n",
       " 'epoch': 5.0}"
      ]
     },
     "execution_count": 41,
     "metadata": {},
     "output_type": "execute_result"
    }
   ],
   "source": [
    "trainer.evaluate()"
   ]
  },
  {
   "cell_type": "markdown",
   "metadata": {},
   "source": [
    "您现在可以将训练结果上传到 Hub，只需执行以下指令："
   ]
  },
  {
   "cell_type": "code",
   "execution_count": 42,
   "metadata": {},
   "outputs": [
    {
     "data": {
      "application/vnd.jupyter.widget-view+json": {
       "model_id": "83dd069043664d95b31b3c954a3ce3d6",
       "version_major": 2,
       "version_minor": 0
      },
      "text/plain": [
       "pytorch_model.bin:   0%|          | 0.00/378M [00:00<?, ?B/s]"
      ]
     },
     "metadata": {},
     "output_type": "display_data"
    },
    {
     "data": {
      "text/plain": [
       "'https://huggingface.co/zongxiao/wav2vec2-base-finetuned-ks/tree/main/'"
      ]
     },
     "execution_count": 42,
     "metadata": {},
     "output_type": "execute_result"
    }
   ],
   "source": [
    "trainer.push_to_hub()"
   ]
  },
  {
   "cell_type": "markdown",
   "metadata": {},
   "source": [
    "您现在可以与所有朋友、家人、最喜欢的宠物共享此模型：他们都可以使用标识符加载它，\"your-username/the-name-you-picked\"例如："
   ]
  },
  {
   "cell_type": "code",
   "execution_count": 44,
   "metadata": {},
   "outputs": [
    {
     "data": {
      "application/vnd.jupyter.widget-view+json": {
       "model_id": "3a3ad969aede47e89921783c76e991f8",
       "version_major": 2,
       "version_minor": 0
      },
      "text/plain": [
       "Downloading (…)rocessor_config.json:   0%|          | 0.00/215 [00:00<?, ?B/s]"
      ]
     },
     "metadata": {},
     "output_type": "display_data"
    },
    {
     "data": {
      "application/vnd.jupyter.widget-view+json": {
       "model_id": "bd8d115cb17d49359d7cdf806a270080",
       "version_major": 2,
       "version_minor": 0
      },
      "text/plain": [
       "Downloading (…)lve/main/config.json:   0%|          | 0.00/2.84k [00:00<?, ?B/s]"
      ]
     },
     "metadata": {},
     "output_type": "display_data"
    },
    {
     "data": {
      "application/vnd.jupyter.widget-view+json": {
       "model_id": "1fe681bebbbf4b41822d87cbd0f5a008",
       "version_major": 2,
       "version_minor": 0
      },
      "text/plain": [
       "Downloading pytorch_model.bin:   0%|          | 0.00/378M [00:00<?, ?B/s]"
      ]
     },
     "metadata": {},
     "output_type": "display_data"
    }
   ],
   "source": [
    "from transformers import AutoModelForAudioClassification, AutoFeatureExtractor\n",
    "\n",
    "feature_extractor = AutoFeatureExtractor.from_pretrained(\"zongxiao/wav2vec2-base-finetuned-ks\")\n",
    "model = AutoModelForAudioClassification.from_pretrained(\"zongxiao/wav2vec2-base-finetuned-ks\")"
   ]
  },
  {
   "cell_type": "markdown",
   "metadata": {
    "jp-MarkdownHeadingCollapsed": true
   },
   "source": [
    "## Hubert 模型文档"
   ]
  },
  {
   "cell_type": "markdown",
   "metadata": {
    "jp-MarkdownHeadingCollapsed": true
   },
   "source": [
    "### 概述"
   ]
  },
  {
   "cell_type": "markdown",
   "metadata": {},
   "source": [
    "Hubert 是由 Wei-Ning Hsu、Benjamin Bolte、Yao-Hung Hubert Tsai、Kushal Lakhotia、Ruslan Salakhutdinov、Abdelrahman Mohamed在HuBERT：通过隐藏单元的掩蔽预测进行自我监督语音表征学习中提出的。"
   ]
  },
  {
   "cell_type": "markdown",
   "metadata": {},
   "source": [
    "论文摘要如下：\n",
    "\n",
    "用于语音表示学习的自监督方法面临三个独特问题的挑战：（1）每个输入话语中有多个声音单元，（2）在预训练阶段没有输入声音单元的词典，以及（3）声音单元的长度可变，没有明确的分段。为了解决这三个问题，我们提出了用于自监督语音表示学习的隐藏单元 BERT (HuBERT) 方法，该方法利用离线聚类步骤为类似 BERT 的预测损失提供对齐的目标标签。我们方法的一个关键要素是仅在屏蔽区域应用预测损失，这迫使模型在连续输入上学习组合的声学和语言模型。HuBERT 主要依赖于无监督聚类步骤的一致性，而不是分配的聚类标签的内在质量。从 100 个聚类的简单 k 均值教师开始，并使用两次聚类迭代，HuBERT 模型匹配或改进了 Librispeech (960h) 和 Libri-light (60,000) 上最先进的 wav2vec 2.0 性能h) 具有 10min、1h、10h、100h 和 960h 微调子集的基准。使用 1B 参数模型，HuBERT 在更具挑战性的开发其他和测试其他评估子集上显示相对 WER 降低高达 19% 和 13%。在 Librispeech (960h) 和 Libri-light (60,000h) 基准测试中，具有 10min、1h、10h、100h 和 960h 微调子集的 0 性能。使用 1B 参数模型，HuBERT 在更具挑战性的开发其他和测试其他评估子集上显示相对 WER 降低高达 19% 和 13%。在 Librispeech (960h) 和 Libri-light (60,000h) 基准测试中，具有 10min、1h、10h、100h 和 960h 微调子集的 0 性能。使用 1B 参数模型，HuBERT 在更具挑战性的开发其他和测试其他评估子集上显示相对 WER 降低高达 19% 和 13%。"
   ]
  },
  {
   "cell_type": "markdown",
   "metadata": {},
   "source": [
    "Tips:\n",
    "\n",
    "Hubert 是一个语音模型，它接受与语音信号的原始波形相对应的浮点数组。\n",
    "\n",
    "Hubert 模型使用联结时序分类 (CTC) 进行微调，因此模型输出必须使用Wav2Vec2CTCTokenizer进行解码。\n",
    "\n"
   ]
  },
  {
   "cell_type": "markdown",
   "metadata": {
    "jp-MarkdownHeadingCollapsed": true
   },
   "source": [
    "### HubertConfig\n"
   ]
  },
  {
   "cell_type": "markdown",
   "metadata": {
    "jp-MarkdownHeadingCollapsed": true
   },
   "source": [
    "#### class transformers.HubertConfig"
   ]
  },
  {
   "cell_type": "markdown",
   "metadata": {},
   "source": [
    "<\n",
    "source\n",
    ">\n",
    "( vocab_size = 32hidden_size = 768num_hidden_layers = 12num_attention_heads = 12intermediate_size = 3072hidden_act = 'gelu'hidden_dropout = 0.1activation_dropout = 0.1attention_dropout = 0.1feat_proj_layer_norm = Truefeat_proj_dropout = 0.0final_dropout = 0.1layerdrop = 0.1initializer_range = 0.02layer_norm_eps = 1e-05feat_extract_norm = 'group'feat_extract_activation = 'gelu'conv_dim = (512, 512, 512, 512, 512, 512, 512)conv_stride = (5, 2, 2, 2, 2, 2, 2)conv_kernel = (10, 3, 3, 3, 3, 2, 2)conv_bias = Falsenum_conv_pos_embeddings = 128num_conv_pos_embedding_groups = 16do_stable_layer_norm = Falseapply_spec_augment = Truemask_time_prob = 0.05mask_time_length = 10mask_time_min_masks = 2mask_feature_prob = 0.0mask_feature_length = 10mask_feature_min_masks = 0ctc_loss_reduction = 'sum'ctc_zero_infinity = Falseuse_weighted_layer_sum = Falseclassifier_proj_size = 256pad_token_id = 0bos_token_id = 1eos_token_id = 2**kwargs )"
   ]
  },
  {
   "cell_type": "markdown",
   "metadata": {
    "jp-MarkdownHeadingCollapsed": true
   },
   "source": [
    "#### Parameters"
   ]
  },
  {
   "cell_type": "markdown",
   "metadata": {},
   "source": [
    "vocab_size (int, optional, defaults to 32) — Vocabulary size of the Hubert model. Defines the number of different tokens that can be represented by the inputs_ids passed when calling HubertModel. Vocabulary size of the model. Defines the different tokens that can be represented by the inputs_ids passed to the forward method of HubertModel.— Hubert 模型的词汇大小。定义调用HubertModelinputs_ids时传递的可以表示的不同令牌的数量 。模型的词汇量。定义可以由传递给HubertModel的forward方法的inputs_ids表示的不同标记。\n",
    "\n",
    "hidden_size (int, optional, defaults to 768) — Dimensionality of the encoder layers and the pooler layer.— 编码器层和池化层的维度\n",
    "\n",
    "num_hidden_layers (int, optional, defaults to 12) — Number of hidden layers in the Transformer encoder.— Transformer 编码器中隐藏层的数量。\n",
    "\n",
    "num_attention_heads (int, optional, defaults to 12) — Number of attention heads for each attention layer in the Transformer encoder.— Transformer 编码器中每个注意力层的注意力头数量。\n",
    "\n",
    "intermediate_size (int, optional, defaults to 3072) — Dimensionality of the “intermediate” (i.e., feed-forward) layer in the Transformer encoder.— Transformer 编码器中“中间”（即前馈）层的维度。\n",
    "\n",
    "hidden_act (str or function, optional, defaults to \"gelu\") — The non-linear activation function (function or string) in the encoder and pooler. If string, \"gelu\", \"relu\", \"selu\" and \"gelu_new\" are supported.— 编码器和池化器中的非线性激活函数（函数或字符串）。如果支持字符串、\"gelu\"、 \"relu\"、\"selu\"和。\"gelu_new\"\n",
    "\n",
    "hidden_dropout(float, optional, defaults to 0.1) — The dropout probability for all fully connected layers in the embeddings, encoder, and pooler. — 嵌入、编码器和池化器中所有全连接层的丢失概率。\n",
    "\n",
    "attention_dropout(float, optional, defaults to 0.1) — The dropout ratio for the attention probabilities.— 注意力概率的丢失率。\n",
    "\n",
    "final_dropout (float, optional, defaults to 0.1) — The dropout probabilitiy for the final projection layer of Wav2Vec2ForCTC.— Wav2Vec2ForCTC最终投影层的 dropout 概率。\n",
    "\n",
    "layerdrop (float, optional, defaults to 0.1) — The LayerDrop probability. See the [LayerDrop paper](see https://arxiv.org/abs/1909.11556) for more details.— LayerDrop 概率。更多细节请参见[LayerDrop论文]（参见https://arxiv.org/abs/1909.11556 ）。\n",
    "\n",
    "initializer_range (float, optional, defaults to 0.02) — The standard deviation of the truncated_normal_initializer for initializing all weight matrices.initializer_range ( float，可选，默认为 0.02) — 用于初始化所有权重矩阵的 truncated_normal_initializer 的标准差。\n",
    "\n",
    "layer_norm_eps (float, optional, defaults to 1e-12) — The epsilon used by the layer normalization layers. — 层归一化层使用的 epsilon\n",
    "\n",
    "feat_extract_norm (str, optional, defaults to \"group\") — The norm to be applied to 1D convolutional layers in feature encoder. One of \"group\" for group normalization of only the first 1D convolutional layer or \"layer\" for layer normalization of all 1D convolutional layers.— 应用于特征编码器中 1D 卷积层的范数。一个\"group\"用于仅第一个一维卷积层的组归一化，或\"layer\"用于所有一维卷积层的层归一化。\n",
    "\n",
    "feat_proj_dropout (float, optional, defaults to 0.0) — The dropout probability for output of the feature encoder.— 特征编码器输出的丢失概率。\n",
    "\n",
    "feat_proj_layer_norm (bool, optional, defaults to True) — Whether to apply LayerNorm to the output of the feature encoder.— 是否将 LayerNorm 应用于特征编码器的输出。\n",
    "\n",
    "feat_extract_activation (str, optional, defaults to “gelu”) -- The non-linear activation function (function or string) in the 1D convolutional layers of the feature extractor. If string, “gelu”, “relu”, “selu”and“gelu_new”` are supported.\n",
    "\n",
    "conv_dim (Tuple[int], optional, defaults to (512, 512, 512, 512, 512, 512, 512)) — A tuple of integers defining the number of input and output channels of each 1D convolutional layer in the feature encoder. The length of conv_dim defines the number of 1D convolutional layers.— 一个整数元组，定义特征编码器中每个 1D 卷积层的输入和输出通道的数量。conv_dim的长度定义一维卷积层的数量。\n",
    "\n",
    "conv_stride (Tuple[int], optional, defaults to (5, 2, 2, 2, 2, 2, 2)) — A tuple of integers defining the stride of each 1D convolutional layer in the feature encoder. The length of conv_stride defines the number of convolutional layers and has to match the length of conv_dim.— 定义特征编码器中每个 1D 卷积层的步幅的整数元组。conv_stride的长度定义了卷积层的数量，并且必须与conv_dim的长度匹配。\n",
    "\n",
    "conv_kernel (Tuple[int], optional, defaults to (10, 3, 3, 3, 3, 3, 3)) — A tuple of integers defining the kernel size of each 1D convolutional layer in the feature encoder. The length of conv_kernel defines the number of convolutional layers and has to match the length of conv_dim.— 定义特征编码器中每个 1D 卷积层的内核大小的整数元组。conv_kernel的长度定义了卷积层的数量，并且必须与 conv_dim的长度匹配。\n",
    "\n",
    "conv_bias (bool, optional, defaults to False) — Whether the 1D convolutional layers have a bias.— 一维卷积层是否有偏差。\n",
    "\n",
    "num_conv_pos_embeddings (int, optional, defaults to 128) — Number of convolutional positional embeddings. Defines the kernel size of 1D convolutional positional embeddings layer.— 卷积位置嵌入的数量。定义一维卷积位置嵌入层的内核大小。\n",
    "\n",
    "num_conv_pos_embedding_groups (int, optional, defaults to 16) — Number of groups of 1D convolutional positional embeddings layer.— 1D 卷积位置嵌入层的组数。\n",
    "\n",
    "do_stable_layer_norm (bool, optional, defaults to False) — Whether do apply stable layer norm architecture of the Transformer encoder. do_stable_layer_norm is True corresponds to applying layer norm before the attention layer, whereas do_stable_layer_norm is False corresponds to applying layer norm after the attention layer.— 是否应用Transformer 编码器的稳定层规范架构。do_stable_layer_norm is True对应于在注意层之前应用层范数，而do_stable_layer_norm is False对应于在注意层之后应用层范数。\n",
    "\n",
    "apply_spec_augment (bool, optional, defaults to True) — Whether to apply SpecAugment data augmentation to the outputs of the feature encoder. For reference see SpecAugment: A Simple Data Augmentation Method for Automatic Speech Recognition.— 是否将SpecAugment数据增强应用于特征编码器的输出。有关参考，请参阅 SpecAugment：自动语音识别的简单数据增强方法。\n",
    "\n",
    "mask_time_prob (float, optional, defaults to 0.05) — Percentage (between 0 and 1) of all feature vectors along the time axis which will be masked. The masking procecure generates ”mask_time_problen(time_axis)/mask_time_length” independent masks over the axis. If reasoning from the propability of each feature vector to be chosen as the start of the vector span to be masked, mask_time_prob should be `prob_vector_startmask_time_length. Note that overlap may decrease the actual percentage of masked vectors. This is only relevant if apply_spec_augment is True`.\n",
    "\n",
    "mask_time_length (int, optional, defaults to 10) — Length of vector span along the time axis.— 沿时间轴的矢量跨度长度。\n",
    "\n",
    "mask_time_min_masks (int, optional, defaults to 2), — The minimum number of masks of length mask_feature_length generated along the time axis, each time step, irrespectively of mask_feature_prob. Only relevant if ”mask_time_prob*len(time_axis)/mask_time_length < mask_time_min_masks”—每个时间步沿时间轴生成的长度掩码的最小数量，与 无关mask_feature_prob。仅当“mask_time_prob*len(time_axis)/mask_time_length < mask_time_min_masks”时才相关\n",
    "\n",
    "mask_feature_prob (float, optional, defaults to 0.0) — Percentage (between 0 and 1) of all feature vectors along the feature axis which will be masked. The masking procecure generates ”mask_feature_problen(feature_axis)/mask_time_length” independent masks over the axis. If reasoning from the propability of each feature vector to be chosen as the start of the vector span to be masked, mask_feature_prob should be `prob_vector_startmask_feature_length. Note that overlap may decrease the actual percentage of masked vectors. This is only relevant if apply_spec_augment is True`.\n",
    "\n",
    "mask_feature_length (int, optional, defaults to 10) — Length of vector span along the feature axis.— 沿特征轴的向量跨度的长度。\n",
    "\n",
    "mask_feature_min_masks (int, optional, defaults to 0), — The minimum number of masks of length mask_feature_length generated along the feature axis, each time step, irrespectively of mask_feature_prob. Only relevant if ”mask_feature_prob*len(feature_axis)/mask_feature_length < mask_feature_min_masks”— 每个时间步沿特征轴生成的长度掩码的最小数量，mask_feature_length与 无关mask_feature_prob。仅当“mask_feature_prob*len(feature_axis)/mask_feature_length < mask_feature_min_masks”时才相关\n",
    "\n",
    "ctc_loss_reduction (str, optional, defaults to \"sum\") — Specifies the reduction to apply to the output of torch.nn.CTCLoss. Only relevant when training an instance of HubertForCTC.— 指定应用于 输出的减少量torch.nn.CTCLoss。仅在训练HubertForCTC实例时相关。\n",
    "\n",
    "ctc_zero_infinity (bool, optional, defaults to False) — Whether to zero infinite losses and the associated gradients of torch.nn.CTCLoss. Infinite losses mainly occur when the inputs are too short to be aligned to the targets. Only relevant when training an instance of HubertForCTC.\n",
    "— 是否将 的无限损失和相关梯度归零torch.nn.CTCLoss。当输入太短而无法与目标保持一致时，就会出现无限损失。仅在训练HubertForCTC实例时相关。\n",
    "\n",
    "use_weighted_layer_sum (bool, optional, defaults to False) — Whether to use a weighted average of layer outputs with learned weights. Only relevant when using an instance of HubertForSequenceClassification.— 是否使用具有学习权重的层输出的加权平均值。仅在使用HubertForSequenceClassification实例时相关。\n",
    "\n",
    "classifier_proj_size (int, optional, defaults to 256) — Dimensionality of the projection before token mean-pooling for classification.— 用于分类的标记均值池之前投影的维数。"
   ]
  },
  {
   "cell_type": "markdown",
   "metadata": {},
   "source": [
    "这是存储HubertModel配置的配置类。它用于根据指定的参数实例化 Hubert 模型，定义模型架构。使用默认值实例化配置将产生与 Hubert facebook/hubert-base-ls960架构类似的配置。"
   ]
  },
  {
   "cell_type": "markdown",
   "metadata": {},
   "source": [
    "配置对象继承自PretrainedConfig，可用于控制模型输出。阅读PretrainedConfig的文档以获取更多信息。"
   ]
  },
  {
   "cell_type": "markdown",
   "metadata": {},
   "source": [
    "#### Example:"
   ]
  },
  {
   "cell_type": "code",
   "execution_count": 60,
   "metadata": {},
   "outputs": [
    {
     "name": "stdout",
     "output_type": "stream",
     "text": [
      "HubertConfig {\n",
      "  \"activation_dropout\": 0.1,\n",
      "  \"apply_spec_augment\": true,\n",
      "  \"attention_dropout\": 0.1,\n",
      "  \"bos_token_id\": 1,\n",
      "  \"classifier_proj_size\": 256,\n",
      "  \"conv_bias\": false,\n",
      "  \"conv_dim\": [\n",
      "    512,\n",
      "    512,\n",
      "    512,\n",
      "    512,\n",
      "    512,\n",
      "    512,\n",
      "    512\n",
      "  ],\n",
      "  \"conv_kernel\": [\n",
      "    10,\n",
      "    3,\n",
      "    3,\n",
      "    3,\n",
      "    3,\n",
      "    2,\n",
      "    2\n",
      "  ],\n",
      "  \"conv_stride\": [\n",
      "    5,\n",
      "    2,\n",
      "    2,\n",
      "    2,\n",
      "    2,\n",
      "    2,\n",
      "    2\n",
      "  ],\n",
      "  \"ctc_loss_reduction\": \"sum\",\n",
      "  \"ctc_zero_infinity\": false,\n",
      "  \"do_stable_layer_norm\": false,\n",
      "  \"eos_token_id\": 2,\n",
      "  \"feat_extract_activation\": \"gelu\",\n",
      "  \"feat_extract_norm\": \"group\",\n",
      "  \"feat_proj_dropout\": 0.0,\n",
      "  \"feat_proj_layer_norm\": true,\n",
      "  \"final_dropout\": 0.1,\n",
      "  \"hidden_act\": \"gelu\",\n",
      "  \"hidden_dropout\": 0.1,\n",
      "  \"hidden_size\": 768,\n",
      "  \"initializer_range\": 0.02,\n",
      "  \"intermediate_size\": 3072,\n",
      "  \"layer_norm_eps\": 1e-05,\n",
      "  \"layerdrop\": 0.1,\n",
      "  \"mask_feature_length\": 10,\n",
      "  \"mask_feature_min_masks\": 0,\n",
      "  \"mask_feature_prob\": 0.0,\n",
      "  \"mask_time_length\": 10,\n",
      "  \"mask_time_min_masks\": 2,\n",
      "  \"mask_time_prob\": 0.05,\n",
      "  \"model_type\": \"hubert\",\n",
      "  \"num_attention_heads\": 12,\n",
      "  \"num_conv_pos_embedding_groups\": 16,\n",
      "  \"num_conv_pos_embeddings\": 128,\n",
      "  \"num_feat_extract_layers\": 7,\n",
      "  \"num_hidden_layers\": 12,\n",
      "  \"pad_token_id\": 0,\n",
      "  \"transformers_version\": \"4.34.0.dev0\",\n",
      "  \"use_weighted_layer_sum\": false,\n",
      "  \"vocab_size\": 32\n",
      "}\n",
      "\n",
      "HubertConfig {\n",
      "  \"activation_dropout\": 0.1,\n",
      "  \"apply_spec_augment\": true,\n",
      "  \"attention_dropout\": 0.1,\n",
      "  \"bos_token_id\": 1,\n",
      "  \"classifier_proj_size\": 256,\n",
      "  \"conv_bias\": false,\n",
      "  \"conv_dim\": [\n",
      "    512,\n",
      "    512,\n",
      "    512,\n",
      "    512,\n",
      "    512,\n",
      "    512,\n",
      "    512\n",
      "  ],\n",
      "  \"conv_kernel\": [\n",
      "    10,\n",
      "    3,\n",
      "    3,\n",
      "    3,\n",
      "    3,\n",
      "    2,\n",
      "    2\n",
      "  ],\n",
      "  \"conv_stride\": [\n",
      "    5,\n",
      "    2,\n",
      "    2,\n",
      "    2,\n",
      "    2,\n",
      "    2,\n",
      "    2\n",
      "  ],\n",
      "  \"ctc_loss_reduction\": \"sum\",\n",
      "  \"ctc_zero_infinity\": false,\n",
      "  \"do_stable_layer_norm\": false,\n",
      "  \"eos_token_id\": 2,\n",
      "  \"feat_extract_activation\": \"gelu\",\n",
      "  \"feat_extract_norm\": \"group\",\n",
      "  \"feat_proj_dropout\": 0.0,\n",
      "  \"feat_proj_layer_norm\": true,\n",
      "  \"final_dropout\": 0.1,\n",
      "  \"hidden_act\": \"gelu\",\n",
      "  \"hidden_dropout\": 0.1,\n",
      "  \"hidden_size\": 768,\n",
      "  \"initializer_range\": 0.02,\n",
      "  \"intermediate_size\": 3072,\n",
      "  \"layer_norm_eps\": 1e-05,\n",
      "  \"layerdrop\": 0.1,\n",
      "  \"mask_feature_length\": 10,\n",
      "  \"mask_feature_min_masks\": 0,\n",
      "  \"mask_feature_prob\": 0.0,\n",
      "  \"mask_time_length\": 10,\n",
      "  \"mask_time_min_masks\": 2,\n",
      "  \"mask_time_prob\": 0.05,\n",
      "  \"model_type\": \"hubert\",\n",
      "  \"num_attention_heads\": 12,\n",
      "  \"num_conv_pos_embedding_groups\": 16,\n",
      "  \"num_conv_pos_embeddings\": 128,\n",
      "  \"num_feat_extract_layers\": 7,\n",
      "  \"num_hidden_layers\": 12,\n",
      "  \"pad_token_id\": 0,\n",
      "  \"transformers_version\": \"4.34.0.dev0\",\n",
      "  \"use_weighted_layer_sum\": false,\n",
      "  \"vocab_size\": 32\n",
      "}\n",
      "\n"
     ]
    }
   ],
   "source": [
    "from transformers import HubertModel, HubertConfig\n",
    "\n",
    "# Initializing a Hubert facebook/hubert-base-ls960 style configuration\n",
    "configuration = HubertConfig()\n",
    "print(configuration) \n",
    "\n",
    "# Initializing a model from the facebook/hubert-base-ls960 style configuration\n",
    "model = HubertModel(configuration)\n",
    "\n",
    "# Accessing the model configuration\n",
    "configuration = model.config\n",
    "print(configuration) "
   ]
  },
  {
   "cell_type": "markdown",
   "metadata": {},
   "source": [
    "### HubertModel"
   ]
  },
  {
   "cell_type": "markdown",
   "metadata": {},
   "source": [
    "#### class transformers.HubertModel"
   ]
  },
  {
   "cell_type": "markdown",
   "metadata": {},
   "source": [
    "参数\n",
    "\n",
    "config ( HuberConfig ) — 包含模型所有参数的模型配置类。使用配置文件初始化不会加载与模型关联的权重，仅加载配置。查看from_pretrained()方法来加载模型权重。"
   ]
  },
  {
   "cell_type": "markdown",
   "metadata": {},
   "source": [
    "config ( HuberConfig ) — 包含模型所有参数的模型配置类。使用配置文件初始化不会加载与模型关联的权重，仅加载配置。查看from_pretrained()方法来加载模型权重。\n",
    "\n",
    "裸露的Hubert模型transformer输出原始隐藏状态，顶部没有任何特定的头。Hubert 是由 Wei-Ning Hsu、Benjamin Bolte、Yao-Hung Hubert Tsai、Kushal Lakhotia、Ruslan Salakhutdinov、Abdelrahman Mohamed在HuBERT：通过隐藏单元的掩蔽预测进行自我监督语音表征学习中提出的。\n",
    "\n",
    "该模型继承自PreTrainedModel。检查超类文档以了解该库为其所有模型实现的通用方法（例如下载或保存等）。\n",
    "\n",
    "该模型是 PyTorch torch.nn.Module子类。将其用作常规 PyTorch 模块，并参阅 PyTorch 文档以了解与一般用法和行为相关的所有事项。"
   ]
  },
  {
   "cell_type": "markdown",
   "metadata": {},
   "source": [
    "forward\n",
    "\n",
    "( input_values: typing.Optional[torch.Tensor]attention_mask: typing.Optional[torch.Tensor] = Nonemask_time_indices: typing.Optional[torch.FloatTensor] = Noneoutput_attentions: typing.Optional[bool] = Noneoutput_hidden_states: typing.Optional[bool] = Nonereturn_dict: typing.Optional[bool] = None ) → transformers.modeling_outputs.BaseModelOutput or tuple(torch.FloatTensor)"
   ]
  },
  {
   "cell_type": "markdown",
   "metadata": {},
   "source": [
    "Parameters\n",
    "\n",
    "input_values (torch.FloatTensor of shape (batch_size, sequence_length)) — Float values of input raw speech waveform. Values can be obtained by loading a .flac or .wav audio file into an array of type List[float] or a numpy.ndarray, e.g. via the soundfile library (pip install soundfile). To prepare the array into input_values, the AutoProcessor should be used for padding and conversion into a tensor of type torch.FloatTensor. See Wav2Vec2Processor.call() for details.  — 输入原始语音波形的浮点值。\n",
    "\n",
    "attention_mask (torch.LongTensor of shape (batch_size, sequence_length), optional) — Mask to avoid performing convolution and attention on padding token indices. — 避免在填充标记索引上执行卷积和注意力的掩码。\n",
    "Mask values selected in [0, 1]:\n",
    "1 for tokens that are not masked,\n",
    "0 for tokens that are masked."
   ]
  },
  {
   "cell_type": "markdown",
   "metadata": {},
   "source": [
    "##### 什么是注意力面具"
   ]
  },
  {
   "cell_type": "markdown",
   "metadata": {},
   "source": [
    "attention_mask仅当相应的处理器具有config.return_attention_mask == True. 对于处理器具有 的所有模型config.return_attention_mask == False，例如 hubert-base，attention_mask不应传递，以避免在进行批量推理时性能下降。对于这样的模型，input_values应该简单地用 0 填充并在没有 的情况下传递attention_mask。请注意，根据是否input_values填充，这些模型也会产生略有不同的结果。"
   ]
  },
  {
   "cell_type": "markdown",
   "metadata": {},
   "source": [
    "output_attentions ( bool,可选) — 是否返回所有注意力层的注意力张量。attentions有关更多详细信息，请参阅返回的张量。\n",
    "\n",
    "output_hidden_​​states ( bool,可选) — 是否返回所有层的隐藏状态。hidden_states有关更多详细信息，请参阅返回的张量。\n",
    "\n",
    "return_dict ( bool,可选) — 是否返回 ModelOutput而不是普通元组。"
   ]
  },
  {
   "cell_type": "markdown",
   "metadata": {},
   "source": [
    "Returns\n",
    "\n",
    "transformers.modeling_outputs.BaseModelOutput or tuple(torch.FloatTensor)\n",
    "\n"
   ]
  },
  {
   "cell_type": "markdown",
   "metadata": {},
   "source": [
    "A transformers.modeling_outputs.BaseModelOutput or a tuple of torch.FloatTensor (if return_dict=False is passed or when config.return_dict=False) comprising various elements depending on the configuration (HubertConfig) and inputs."
   ]
  },
  {
   "cell_type": "markdown",
   "metadata": {},
   "source": [
    "last_hidden_state (torch.FloatTensor of shape (batch_size, sequence_length, hidden_size)) — Sequence of hidden-states at the output of the last layer of the model. — 模型最后一层输出的隐藏状态序列。\n",
    "\n",
    "hidden_states (tuple(torch.FloatTensor), optional, returned when output_hidden_states=True is passed or when config.output_hidden_states=True) — Tuple of torch.FloatTensor (one for the output of the embeddings, if the model has an embedding layer, + one for the output of each layer) of shape (batch_size, sequence_length, hidden_size).可选output_hidden_states=True, 当被传递 或 当 时返回config.output_hidden_states=True) — shape 的元组torch.FloatTensor（一个用于嵌入的输出，如果模型具有嵌入层，+一个用于每层的输出）(batch_size, sequence_length, hidden_size)。\n",
    "\n",
    "Hidden-states of the model at the output of each layer plus the optional initial embedding outputs.每层输出处模型的隐藏状态加上可选的初始嵌入输出。\n",
    "\n",
    "\n",
    "\n",
    "attentions (tuple(torch.FloatTensor), optional, returned when output_attentions=True is passed or when config.output_attentions=True) — Tuple of torch.FloatTensor (one for each layer) of shape (batch_size, num_heads, sequence_length, sequence_length).\n",
    "\n",
    "注意力权重位于注意力softmax之后，用于计算自注意力头中的加权平均值。\n",
    "\n"
   ]
  },
  {
   "cell_type": "markdown",
   "metadata": {},
   "source": [
    "HubertModel的转发方法覆盖了__call__特殊方法。"
   ]
  },
  {
   "cell_type": "markdown",
   "metadata": {},
   "source": [
    "<font style=background:green>尽管需要在此函数中定义前向传递的配方，但应该Module 在之后调用实例而不是此函数，因为前者负责运行预处理和后处理步骤，而后者则默默地忽略它们。</font>"
   ]
  },
  {
   "cell_type": "markdown",
   "metadata": {},
   "source": [
    "#### Example"
   ]
  },
  {
   "cell_type": "code",
   "execution_count": 61,
   "metadata": {},
   "outputs": [
    {
     "data": {
      "application/vnd.jupyter.widget-view+json": {
       "model_id": "fbba746f3f274f119c25a53a958a8d89",
       "version_major": 2,
       "version_minor": 0
      },
      "text/plain": [
       "Downloading (…)rocessor_config.json:   0%|          | 0.00/212 [00:00<?, ?B/s]"
      ]
     },
     "metadata": {},
     "output_type": "display_data"
    },
    {
     "data": {
      "application/vnd.jupyter.widget-view+json": {
       "model_id": "1118d226c448416ba972535506264725",
       "version_major": 2,
       "version_minor": 0
      },
      "text/plain": [
       "Downloading (…)okenizer_config.json:   0%|          | 0.00/138 [00:00<?, ?B/s]"
      ]
     },
     "metadata": {},
     "output_type": "display_data"
    },
    {
     "data": {
      "application/vnd.jupyter.widget-view+json": {
       "model_id": "98fb7833103b4715a51cb5b287936674",
       "version_major": 2,
       "version_minor": 0
      },
      "text/plain": [
       "Downloading (…)lve/main/config.json:   0%|          | 0.00/1.38k [00:00<?, ?B/s]"
      ]
     },
     "metadata": {},
     "output_type": "display_data"
    },
    {
     "data": {
      "application/vnd.jupyter.widget-view+json": {
       "model_id": "ca941ab18e0e4795a46af0cf8131ff92",
       "version_major": 2,
       "version_minor": 0
      },
      "text/plain": [
       "Downloading (…)olve/main/vocab.json:   0%|          | 0.00/291 [00:00<?, ?B/s]"
      ]
     },
     "metadata": {},
     "output_type": "display_data"
    },
    {
     "data": {
      "application/vnd.jupyter.widget-view+json": {
       "model_id": "afcd78068820417ba508a87592174e7f",
       "version_major": 2,
       "version_minor": 0
      },
      "text/plain": [
       "Downloading (…)cial_tokens_map.json:   0%|          | 0.00/85.0 [00:00<?, ?B/s]"
      ]
     },
     "metadata": {},
     "output_type": "display_data"
    },
    {
     "name": "stderr",
     "output_type": "stream",
     "text": [
      "Loading the tokenizer from the `special_tokens_map.json` and the `added_tokens.json` will be removed in `transformers 5`,  it is kept for forward compatibility, but it is recommended to update your `tokenizer_config.json` by uploading it again. You will see the new `added_tokens_decoder` attribute that will store the relevant information.\n"
     ]
    },
    {
     "data": {
      "application/vnd.jupyter.widget-view+json": {
       "model_id": "3f64837e2f41449494832594b993da41",
       "version_major": 2,
       "version_minor": 0
      },
      "text/plain": [
       "Downloading pytorch_model.bin:   0%|          | 0.00/1.26G [00:00<?, ?B/s]"
      ]
     },
     "metadata": {},
     "output_type": "display_data"
    },
    {
     "data": {
      "application/vnd.jupyter.widget-view+json": {
       "model_id": "04c90d517a4d44288afb3268b6275a91",
       "version_major": 2,
       "version_minor": 0
      },
      "text/plain": [
       "Downloading builder script:   0%|          | 0.00/5.17k [00:00<?, ?B/s]"
      ]
     },
     "metadata": {},
     "output_type": "display_data"
    },
    {
     "data": {
      "application/vnd.jupyter.widget-view+json": {
       "model_id": "c020781cbea540c0ae0db5625f774b65",
       "version_major": 2,
       "version_minor": 0
      },
      "text/plain": [
       "Downloading data files:   0%|          | 0/1 [00:00<?, ?it/s]"
      ]
     },
     "metadata": {},
     "output_type": "display_data"
    },
    {
     "data": {
      "application/vnd.jupyter.widget-view+json": {
       "model_id": "47c9d61431374f98babc681f98996f85",
       "version_major": 2,
       "version_minor": 0
      },
      "text/plain": [
       "Downloading data:   0%|          | 0.00/9.08M [00:00<?, ?B/s]"
      ]
     },
     "metadata": {},
     "output_type": "display_data"
    },
    {
     "data": {
      "application/vnd.jupyter.widget-view+json": {
       "model_id": "86c847f3eafd45818c599c3c0b777a59",
       "version_major": 2,
       "version_minor": 0
      },
      "text/plain": [
       "Extracting data files:   0%|          | 0/1 [00:00<?, ?it/s]"
      ]
     },
     "metadata": {},
     "output_type": "display_data"
    },
    {
     "data": {
      "application/vnd.jupyter.widget-view+json": {
       "model_id": "582c24bfc25d41c79b97ad4c069f1377",
       "version_major": 2,
       "version_minor": 0
      },
      "text/plain": [
       "Generating validation split: 0 examples [00:00, ? examples/s]"
      ]
     },
     "metadata": {},
     "output_type": "display_data"
    },
    {
     "data": {
      "application/vnd.jupyter.widget-view+json": {
       "model_id": "d52380e7eb9245b1ab16c4a3f660611b",
       "version_major": 2,
       "version_minor": 0
      },
      "text/plain": [
       "Map:   0%|          | 0/73 [00:00<?, ? examples/s]"
      ]
     },
     "metadata": {},
     "output_type": "display_data"
    },
    {
     "name": "stderr",
     "output_type": "stream",
     "text": [
      "It is strongly recommended to pass the ``sampling_rate`` argument to this function. Failing to do so can result in silent errors that might be hard to debug.\n"
     ]
    }
   ],
   "source": [
    "from transformers import AutoProcessor, HubertModel\n",
    "from datasets import load_dataset\n",
    "import soundfile as sf\n",
    "\n",
    "processor = AutoProcessor.from_pretrained(\"facebook/hubert-large-ls960-ft\")\n",
    "model = HubertModel.from_pretrained(\"facebook/hubert-large-ls960-ft\")\n",
    "\n",
    "\n",
    "def map_to_array(batch):\n",
    "    speech, _ = sf.read(batch[\"file\"])\n",
    "    batch[\"speech\"] = speech\n",
    "    return batch\n",
    "\n",
    "\n",
    "ds = load_dataset(\"hf-internal-testing/librispeech_asr_dummy\", \"clean\", split=\"validation\")\n",
    "ds = ds.map(map_to_array)\n",
    "\n",
    "input_values = processor(ds[\"speech\"][0], return_tensors=\"pt\").input_values  # Batch size 1\n",
    "hidden_states = model(input_values).last_hidden_state"
   ]
  },
  {
   "cell_type": "markdown",
   "metadata": {},
   "source": [
    "### HubertForCTC"
   ]
  },
  {
   "cell_type": "markdown",
   "metadata": {},
   "source": [
    "Hubert Model with a language modeling head on top for Connectionist Temporal Classification (CTC). Hubert was proposed in HuBERT: Self-Supervised Speech Representation Learning by Masked Prediction of Hidden Units by Wei-Ning Hsu, Benjamin Bolte, Yao-Hung Hubert Tsai, Kushal Lakhotia, Ruslan Salakhutdinov, Abdelrahman Mohamed.\n",
    "（Hubert Model）language modeling在联结主义时间分类（CTC）方面处于领先地位。Hubert 是由 Wei-Ning Hsu、Benjamin Bolte、Yao-Hung Hubert Tsai、Kushal Lakhotia、Ruslan Salakhutdinov、Abdelrahman Mohamed在HuBERT：通过隐藏单元的掩蔽预测进行自我监督语音表征学习中提出的。\n",
    "\n",
    "This model inherits from PreTrainedModel. Check the superclass documentation for the generic methods the library implements for all its model (such as downloading or saving etc.).\n",
    "该模型继承自PreTrainedModel。检查超类文档以了解该库为其所有模型实现的通用方法（例如下载或保存等）。\n",
    "\n",
    "This model is a PyTorch torch.nn.Module sub-class. Use it as a regular PyTorch Module and refer to the PyTorch documentation for all matter related to general usage and behavior.\n",
    "该模型是 PyTorch torch.nn.Module子类。将其用作常规 PyTorch 模块，并参阅 PyTorch 文档以了解与一般用法和行为相关的所有事项。"
   ]
  },
  {
   "cell_type": "markdown",
   "metadata": {},
   "source": [
    "#### Example"
   ]
  },
  {
   "cell_type": "code",
   "execution_count": 62,
   "metadata": {},
   "outputs": [
    {
     "data": {
      "application/vnd.jupyter.widget-view+json": {
       "model_id": "e523c55afd3941beaecd21ce20944c18",
       "version_major": 2,
       "version_minor": 0
      },
      "text/plain": [
       "Downloading builder script:   0%|          | 0.00/5.17k [00:00<?, ?B/s]"
      ]
     },
     "metadata": {},
     "output_type": "display_data"
    },
    {
     "data": {
      "application/vnd.jupyter.widget-view+json": {
       "model_id": "19d970efb1ac44979391c32a5a56a0bf",
       "version_major": 2,
       "version_minor": 0
      },
      "text/plain": [
       "Downloading data files:   0%|          | 0/1 [00:00<?, ?it/s]"
      ]
     },
     "metadata": {},
     "output_type": "display_data"
    },
    {
     "data": {
      "application/vnd.jupyter.widget-view+json": {
       "model_id": "89f0cc0aea974b77b45c9c522e2410cf",
       "version_major": 2,
       "version_minor": 0
      },
      "text/plain": [
       "Extracting data files:   0%|          | 0/1 [00:00<?, ?it/s]"
      ]
     },
     "metadata": {},
     "output_type": "display_data"
    },
    {
     "data": {
      "application/vnd.jupyter.widget-view+json": {
       "model_id": "8bad3857c7a945e09fd616e1cdb8c23c",
       "version_major": 2,
       "version_minor": 0
      },
      "text/plain": [
       "Generating validation split: 0 examples [00:00, ? examples/s]"
      ]
     },
     "metadata": {},
     "output_type": "display_data"
    },
    {
     "data": {
      "text/plain": [
       "22.68"
      ]
     },
     "execution_count": 62,
     "metadata": {},
     "output_type": "execute_result"
    }
   ],
   "source": [
    "from transformers import AutoProcessor, HubertForCTC\n",
    "from datasets import load_dataset\n",
    "import torch\n",
    "\n",
    "dataset = load_dataset(\"hf-internal-testing/librispeech_asr_demo\", \"clean\", split=\"validation\")\n",
    "dataset = dataset.sort(\"id\")\n",
    "sampling_rate = dataset.features[\"audio\"].sampling_rate\n",
    "\n",
    "processor = AutoProcessor.from_pretrained(\"facebook/hubert-large-ls960-ft\")\n",
    "model = HubertForCTC.from_pretrained(\"facebook/hubert-large-ls960-ft\")\n",
    "\n",
    "# audio file is decoded on the fly\n",
    "inputs = processor(dataset[0][\"audio\"][\"array\"], sampling_rate=sampling_rate, return_tensors=\"pt\")\n",
    "with torch.no_grad():\n",
    "    logits = model(**inputs).logits\n",
    "predicted_ids = torch.argmax(logits, dim=-1)\n",
    "\n",
    "# transcribe speech\n",
    "transcription = processor.batch_decode(predicted_ids)\n",
    "transcription[0]\n",
    "\n",
    "inputs[\"labels\"] = processor(text=dataset[0][\"text\"], return_tensors=\"pt\").input_ids\n",
    "\n",
    "# compute loss\n",
    "loss = model(**inputs).loss\n",
    "round(loss.item(), 2)"
   ]
  },
  {
   "cell_type": "markdown",
   "metadata": {},
   "source": [
    "### HubertForSequenceClassification"
   ]
  },
  {
   "cell_type": "markdown",
   "metadata": {},
   "source": [
    "Hubert Model with a sequence classification head on top (a linear layer over the pooled output) for tasks like SUPERB Keyword Spotting.\n",
    "Hubert 模型的顶部有一个序列分类头（池化输出上的线性层），用于执行 SUPERB 关键字识别等任务。\n",
    "\n",
    "Hubert was proposed in HuBERT: Self-Supervised Speech Representation Learning by Masked Prediction of Hidden Units by Wei-Ning Hsu, Benjamin Bolte, Yao-Hung Hubert Tsai, Kushal Lakhotia, Ruslan Salakhutdinov, Abdelrahman Mohamed.\n",
    "Hubert 是由 Wei-Ning Hsu、Benjamin Bolte、Yao-Hung Hubert Tsai、Kushal Lakhotia、Ruslan Salakhutdinov、Abdelrahman Mohamed在HuBERT：通过隐藏单元的掩蔽预测进行自我监督语音表征学习中提出的。\n",
    "\n",
    "This model inherits from PreTrainedModel. Check the superclass documentation for the generic methods the library implements for all its model (such as downloading or saving etc.).\n",
    "该模型继承自PreTrainedModel。检查超类文档以了解该库为其所有模型实现的通用方法（例如下载或保存等）。\n",
    "\n",
    "This model is a PyTorch torch.nn.Module sub-class. Use it as a regular PyTorch Module and refer to the PyTorch documentation for all matter related to general usage and behavior.\n",
    "该模型是 PyTorch torch.nn.Module子类。将其用作常规 PyTorch 模块，并参阅 PyTorch 文档以了解与一般用法和行为相关的所有事项。"
   ]
  },
  {
   "cell_type": "markdown",
   "metadata": {},
   "source": [
    "#### Example"
   ]
  },
  {
   "cell_type": "code",
   "execution_count": 63,
   "metadata": {},
   "outputs": [
    {
     "data": {
      "application/vnd.jupyter.widget-view+json": {
       "model_id": "c182aeec5a984b628ac2521e5e7adbe9",
       "version_major": 2,
       "version_minor": 0
      },
      "text/plain": [
       "Downloading (…)rocessor_config.json:   0%|          | 0.00/213 [00:00<?, ?B/s]"
      ]
     },
     "metadata": {},
     "output_type": "display_data"
    },
    {
     "data": {
      "application/vnd.jupyter.widget-view+json": {
       "model_id": "d78a1590dfd14993bb82dc305165eaa8",
       "version_major": 2,
       "version_minor": 0
      },
      "text/plain": [
       "Downloading (…)lve/main/config.json:   0%|          | 0.00/1.93k [00:00<?, ?B/s]"
      ]
     },
     "metadata": {},
     "output_type": "display_data"
    },
    {
     "data": {
      "application/vnd.jupyter.widget-view+json": {
       "model_id": "997fe68b3ac54e7fa69f9b34a5dd610f",
       "version_major": 2,
       "version_minor": 0
      },
      "text/plain": [
       "Downloading pytorch_model.bin:   0%|          | 0.00/378M [00:00<?, ?B/s]"
      ]
     },
     "metadata": {},
     "output_type": "display_data"
    },
    {
     "data": {
      "text/plain": [
       "8.53"
      ]
     },
     "execution_count": 63,
     "metadata": {},
     "output_type": "execute_result"
    }
   ],
   "source": [
    "from transformers import AutoFeatureExtractor, HubertForSequenceClassification\n",
    "from datasets import load_dataset\n",
    "import torch\n",
    "\n",
    "dataset = load_dataset(\"hf-internal-testing/librispeech_asr_demo\", \"clean\", split=\"validation\")\n",
    "dataset = dataset.sort(\"id\")\n",
    "sampling_rate = dataset.features[\"audio\"].sampling_rate\n",
    "\n",
    "feature_extractor = AutoFeatureExtractor.from_pretrained(\"superb/hubert-base-superb-ks\")\n",
    "model = HubertForSequenceClassification.from_pretrained(\"superb/hubert-base-superb-ks\")\n",
    "\n",
    "# audio file is decoded on the fly\n",
    "inputs = feature_extractor(dataset[0][\"audio\"][\"array\"], sampling_rate=sampling_rate, return_tensors=\"pt\")\n",
    "\n",
    "with torch.no_grad():\n",
    "    logits = model(**inputs).logits\n",
    "\n",
    "predicted_class_ids = torch.argmax(logits, dim=-1).item()\n",
    "predicted_label = model.config.id2label[predicted_class_ids]\n",
    "predicted_label\n",
    "\n",
    "# compute loss - target_label is e.g. \"down\"\n",
    "target_label = model.config.id2label[0]\n",
    "inputs[\"labels\"] = torch.tensor([model.config.label2id[target_label]])\n",
    "loss = model(**inputs).loss\n",
    "round(loss.item(), 2)"
   ]
  },
  {
   "cell_type": "markdown",
   "metadata": {},
   "source": [
    "## Wav2Vec2文档"
   ]
  },
  {
   "cell_type": "markdown",
   "metadata": {},
   "source": []
  },
  {
   "cell_type": "markdown",
   "metadata": {},
   "source": []
  }
 ],
 "metadata": {
  "kernelspec": {
   "display_name": "Python 3 (ipykernel)",
   "language": "python",
   "name": "python3"
  },
  "language_info": {
   "codemirror_mode": {
    "name": "ipython",
    "version": 3
   },
   "file_extension": ".py",
   "mimetype": "text/x-python",
   "name": "python",
   "nbconvert_exporter": "python",
   "pygments_lexer": "ipython3",
   "version": "3.10.12"
  }
 },
 "nbformat": 4,
 "nbformat_minor": 4
}
